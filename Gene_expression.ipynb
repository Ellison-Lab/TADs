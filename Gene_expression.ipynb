{
 "cells": [
  {
   "cell_type": "markdown",
   "metadata": {},
   "source": [
    "### Gene Expression\n",
    "###### Pipeline to compare gene expression orthologous and non orthologous genes in two species. \n",
    "\n",
    "__Versions__  \n",
    "Bedtools: 2.29.0   \n",
    "R: 3.6.1  \n",
    "DEseq 1.26.0  \n",
    "GNU Awk 4.0.2   \n",
    "GNU grep 2.20   \n",
    "GNU Coreutils 8.22   "
   ]
  },
  {
   "cell_type": "code",
   "execution_count": null,
   "metadata": {},
   "outputs": [],
   "source": [
    "# GET DMEL TAD COLUMNS FOR CHROM, START, AND STOP\n",
    "cut -f 4-6 /dmel_to_dtri_domains/dtri_lo_dmel_0.9r_final | sort -k1,1 -k2,2n | uniq > t1\n",
    "cut -f 5-7 /dmel_to_dtri_domains/missing_split | sort -k1,1 -k2,2n | uniq > t2\n",
    "cut -f 4-6 /dmel_to_dtri_domains/dtri_lo_dmel_NOT0.9_contig | sort -k1,1 -k2,2n | uniq > t3\n",
    "cut -f 7-9 /dmel_to_dtri_domains/dtri_lo_dmel_tande | sort -k1,1 -k2,2n | uniq > t4\n",
    "\n",
    "# GET RID OF ANY DUPLICATE ENTRIES AND COMBINE THE 3 NONCONSERVED TAD FILES\n",
    "cat t1 | sort -k1,1 -k2,2n | uniq > dtri_lo_dmel_0.9r_final.bed\n",
    "cat t2 t3 t4 | sort -k1,1 -k2,2n | uniq > dtri_lo_dmel_NOT_0.9r_final.bed\n",
    "\n",
    "# GET GENES THAT OVERLAP CONSERVED AND NONCONSERVED DOMAINS\n",
    "bedtools intersect -u -a dmel-all-r6.21.proteinCoding.MullerIDs.bed -b dtri_lo_dmel_0.9r_final.bed > dtri_lo_dmel_0.9r_final.GENES.bed\n",
    "bedtools intersect -u -a dmel-all-r6.21.proteinCoding.MullerIDs.bed -b dtri_lo_dmel_NOT_0.9r_final.bed > dtri_lo_dmel_NOT_0.9r_final.GENES.bed\n",
    "\n",
    "# MAKE NEW FILE WITH ONLY GENE IDs\n",
    "cut -f 4 dtri_lo_dmel_0.9r_final.GENES.bed | sort | uniq > dtri_lo_dmel_0.9r_final.GENES.IDs\n",
    "cut -f 4 dtri_lo_dmel_NOT_0.9r_final.GENES.bed | sort | uniq > dtri_lo_dmel_NOT_0.9r_final.GENES.IDs\n",
    "\n",
    "# COUNT HOW MANY 1-1 ORTHOLOGS ARE IN CONSERVED VS NONCONSERVED DOMAINS\n",
    "grep -f dtri_lo_dmel_0.9r_final.GENES.IDs dtri_dmel.1to1_orthologs | wc -l\n",
    "grep -f dtri_lo_dmel_NOT_0.9r_final.GENES.IDs dtri_dmel.1to1_orthologs | wc -l\n",
    "\n",
    "# USE DESEQ OUTPUT TO CREATE TWO FILES: ONE FOR CONSERVED DOMAIN GENES AND ONE FOR NONCONSERVED\n",
    "head -1 deseq_output_all.csv > t1\n",
    "head -1 deseq_output_all.csv > t2\n",
    "grep -f dtri_lo_dmel_0.9r_final.GENES.IDs deseq_output_all.csv >> t1\n",
    "grep -f dtri_lo_dmel_NOT_0.9r_final.GENES.IDs deseq_output_all.csv >> t2\n",
    "\n",
    "# COUNT THE NUMBER OF CONSERVED AND NONCONSERVED DIFFERENTIALLY EXPRESSED GENES WITH ADJUSTED PVALUE<=0.05\n",
    "awk -F, '{print $7}' t1 | grep -v padj | grep -v NA | awk '$1<=0.05' | wc -l\n",
    "awk -F, '{print $7}' t2 | grep -v padj | grep -v NA | awk '$1<=0.05' | wc -l"
   ]
  },
  {
   "cell_type": "markdown",
   "metadata": {},
   "source": [
    "Fisher's Exact Test to compare differentially expressed genes between conserved and nonconserved TADs."
   ]
  },
  {
   "cell_type": "code",
   "execution_count": null,
   "metadata": {},
   "outputs": [],
   "source": [
    "matrix(c(99,1092-99,501,4739-501),nrow=2)->m\n",
    "fisher.test(m)"
   ]
  }
 ],
 "metadata": {
  "kernelspec": {
   "display_name": "Python 3",
   "language": "python",
   "name": "python3"
  },
  "language_info": {
   "codemirror_mode": {
    "name": "ipython",
    "version": 3
   },
   "file_extension": ".py",
   "mimetype": "text/x-python",
   "name": "python",
   "nbconvert_exporter": "python",
   "pygments_lexer": "ipython3",
   "version": "3.8.1"
  }
 },
 "nbformat": 4,
 "nbformat_minor": 4
}
