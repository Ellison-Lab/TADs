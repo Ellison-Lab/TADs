{
 "cells": [
  {
   "cell_type": "markdown",
   "metadata": {},
   "source": [
    "### Insulation Score Comparisons\n",
    "__Versions__  \n",
    "Bedtools: 2.29.0   \n",
    "GNU Awk 4.0.2   \n",
    "GNU Coreutils 8.22   "
   ]
  },
  {
   "cell_type": "markdown",
   "metadata": {},
   "source": [
    "Boundary vs intraTAD_Break vs intraTAD_all (Figure 5a)"
   ]
  },
  {
   "cell_type": "code",
   "execution_count": null,
   "metadata": {},
   "outputs": [],
   "source": [
    "#find dmel breakpoints greater and less than 5KB from TAD\n",
    "#dmel_vs_dtri_better.map output from Mercator commands in \"Genome Synteny\" markdown\n",
    "#use dmel_summed_score.bedgraph from \"Identifying_TAD_boundaries_and_domains\" markdown\n",
    "awk '{print $2\"\\t\"$3\"\\t\"$3}' dmel_vs_dtri_better.map > dmel_breakpoints\n",
    "bedtools intersect -wa -a dmel_summed_score.bedgraph -b dmel_breakpoints > dmel_breakpoint_score_bins_summed\n",
    "bedtools closest -d -a breakpoint_score_bins -b dmel_d1_boundaries.bed | awk '$11<=5000' > dmel_breakpoints_within5kb_of_TAD\n",
    "bedtools closest -d -a breakpoint_score_bins -b dmel_d1_boundaries.bed | awk '$11>=5000' > dmel_breakpoints_morethen5kb_from_TAD\n",
    "bedtools intersect -wo -a dmel_summed_score.bedgraph -b dmel_domains_hc.bed | sort | uniq > intra_hc_TAD_scores_dmel\n",
    "\n",
    "\n",
    "cut -f 1-4 dmel_breakpoints_within5kb_of_TAD | sort -k1,1 -k2,2n | uniq > intraBoundary_breakpoint.insulScore\n",
    "cut -f 1-4 intra_hc_TAD_scores_dmel | sort -k1,1 -k2,2n | uniq > intraTAD_allBins.insulScore\n",
    "cut -f 1-4 dmel_breakpoints_morethen5kb_from_TAD_inside_hc_TAD | sort -k1,1 -k2,2n | uniq > intraTAD_breakpoint.insulScore"
   ]
  },
  {
   "cell_type": "markdown",
   "metadata": {},
   "source": [
    "Lineage-Specific vs Orthologous vs intraTAD_All (Figure 5b)"
   ]
  },
  {
   "cell_type": "code",
   "execution_count": null,
   "metadata": {},
   "outputs": [],
   "source": [
    "#files for -b in the following bedtools commands created in \"Orthologous boundaries\" markdown\n",
    "bedtools intersect -wa -wb -a dtri_summed_score.bedgraph -b dmel_to_dtri_dtri_non_boundary_coord_with_bound_id | sort -k8,8 | bedtools groupby -g 8 -c 4 -o mean > dmel_to_dtri_dtri_lineage_spec_bin_scores\n",
    "bedtools intersect -wa -wb -a dmel_summed_score.bedgraph -b dmel_to_dtri_dmel_nonconserved_coords_with_bound_id | sort -k8,8 | bedtools groupby -g 8 -c 4 -o mean > dmel_to_dtri_mel_lineage_spec_bin_scores\n",
    "bedtools intersect -wa -wb -a dmel_summed_score.bedgraph -b dtri_to_dmel_dmel_non_boundary_coord_with_bound_id | sort -k8,8 | bedtools groupby -g 8 -c 4 -o mean > dtri_to_dmel_dmel_lineage_spec_bin_scores\n",
    "bedtools intersect -wa -wb -a dtri_summed_score.bedgraph -b dtri_to_dmel_dtri_nonconserved_coords_with_bound_id | sort -k8,8 | bedtools groupby -g 8 -c 4 -o mean > dtri_to_dmel_dtri_lineage_spec_bin_scores\n",
    "join -1 1 -2 1 dtri_to_dmel_dtri_lineage_spec_bin_scores dtri_to_dmel_dmel_lineage_spec_bin_scores > dtri_to_dmel_lineage_specific_boundary_bin_scores\n",
    "join -1 1 -2 1 dmel_to_dtri_mel_lineage_spec_bin_scores dmel_to_dtri_dtri_lineage_spec_bin_scores > dmel_to_dtri_lineage_specific_boundary_bin_scores\n",
    "#lineage-specific vs orthologous region scores\n",
    "cat dmel_to_dtri_lineage_specific_boundary_bin_scores dtri_to_dmel_lineage_specific_boundary_bin_scores > lineage_specific_vs_ortho.tad_sep_score\n",
    "#use IntraTAD_allBins.insulScore for intraTAD_all scores"
   ]
  }
 ],
 "metadata": {
  "kernelspec": {
   "display_name": "Python 3",
   "language": "python",
   "name": "python3"
  },
  "language_info": {
   "codemirror_mode": {
    "name": "ipython",
    "version": 3
   },
   "file_extension": ".py",
   "mimetype": "text/x-python",
   "name": "python",
   "nbconvert_exporter": "python",
   "pygments_lexer": "ipython3",
   "version": "3.7.3"
  }
 },
 "nbformat": 4,
 "nbformat_minor": 4
}
