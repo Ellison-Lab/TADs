{
 "cells": [
  {
   "cell_type": "markdown",
   "metadata": {},
   "source": [
    "# HiCExplorer pipeline\n",
    "\n",
    "**Versions**  \n",
    "bwa: 0.7.13  \n",
    "samtools: 1.3.1  \n",
    "java: 1.8.0_211  \n",
    "HiC_explorer: 2.2  \n",
    "Trimmomatic: 0.39  "
   ]
  },
  {
   "cell_type": "code",
   "execution_count": null,
   "metadata": {},
   "outputs": [],
   "source": [
    "#!/bin/bash\n",
    "\n",
    "#SBATCH --partition=main    # Partition (job queue)\n",
    "#SBATCH --job-name=HiC         # Assign an 8-character name to your job, no spaces\n",
    "#SBATCH --nodes=1                # Number of compute nodes\n",
    "#SBATCH --ntasks=1               # Processes (usually = cores) on each node\n",
    "#SBATCH --cpus-per-task=28       # Threads per process (or per core)\n",
    "#SBATCH --export=ALL             # Export you current environment settings to the job environment\n",
    "#SBATCH --time=12:00:00\n",
    "#SBATCH --mem=128000\n",
    "#SBATCH --output=slurm-%A_%a.out\n",
    "#SBATCH --array=1-10\n",
    "\n",
    "DIR=/dup_*\n",
    "REF=/references\n",
    "\n",
    "BIN=5000\n",
    "\n",
    "module load bwa\n",
    "module load samtools\n",
    "module load java\n",
    "\n",
    "samtools faidx $REF \n",
    "bwa index $REF \n",
    "\n",
    "cd $DIR\n",
    "cp /pkg/Trimmomatic-0.39/adapters/TruSeq3-PE.fa $DIR/.\n",
    "\n",
    "# TRIM READS: will produce files ending in _1P.fastq.gz, _2P.fastq.gz, _1U.fastq.gz, and _2U.fastq.gz\n",
    "\n",
    "java -jar /pkg/Trimmomatic-0.39/trimmomatic-0.39.jar PE $SLURM_ARRAY_TASK_ID.R1.fastq.gz $SLURM_ARRAY_TASK_ID.R2.fastq.gz -threads 28 -baseout $SLURM_ARRAY_TASK_ID.fastq.gz ILLUMINACLIP:TruSeq3-PE.fa:2:30:10 LEADING:10 TRAILING:10 SLIDINGWINDOW:4:15 MINLEN:36\n",
    "\n",
    "# Perl script takes output from trimmomatic and creates two new files: split_P1.fa and split_P2.fa\n",
    "perl /combined_cut_nt.pl $SLURM_ARRAY_TASK_ID\\_1P.fastq.gz $SLURM_ARRAY_TASK_ID\\_2P.fastq.gz $SLURM_ARRAY_TASK_ID\\_1U.fastq.gz $SLURM_ARRAY_TASK_ID\\_2U.fastq.gz $SLURM_ARRAY_TASK_ID \n",
    "\n",
    "# ALIGN split_P1.fa and split_P2.fa WITH BWA\n",
    "\n",
    "bwa mem -t 28 -A1 -B4 -E50 -L0 $REF split_$SLURM_ARRAY_TASK_ID.P1.fa 2>mate_$SLURM_ARRAY_TASK_ID\\_R1.log | samtools view -Shb - > $SLURM_ARRAY_TASK_ID.R1.bam\n",
    "bwa mem -t 28 -A1 -B4 -E50 -L0 $REF split_$SLURM_ARRAY_TASK_ID.P2.fa 2>mate_$SLURM_ARRAY_TASK_ID\\_R2.log | samtools view -Shb - > $SLURM_ARRAY_TASK_ID.R2.bam\n",
    "\n",
    "# Delete split files\n",
    "rm split_$SLURM_ARRAY_TASK_ID.P*.fa\n",
    "\n",
    "# BUILD MATRIX\n",
    "hicBuildMatrix --samFiles $SLURM_ARRAY_TASK_ID.R1.bam $SLURM_ARRAY_TASK_ID.R2.bam --binSize $BIN --outBam $SLURM_ARRAY_TASK_ID\\_hicMat.bam --minMappingQuality 20 -o $SLURM_ARRAY_TASK_ID\\_$BIN\\bp.h5 --QCfolder $SLURM_ARRAY_TASK_ID\\_hicQC >& $SLURM_ARRAY_TASK_ID.buildmatrix.log\n",
    "\n",
    "# CORRECT MATRIX\n",
    "\n",
    "hicCorrectMatrix diagnostic_plot -m $SLURM_ARRAY_TASK_ID\\_$BIN\\bp.h5 --plotName $SLURM_ARRAY_TASK_ID.diagnostic_plot.png >& $SLURM_ARRAY_TASK_ID.plot.log\n",
    "hicCorrectMatrix correct --filterThreshold -2 2 --perchr -m $SLURM_ARRAY_TASK_ID\\_$BIN\\bp.h5 -o $SLURM_ARRAY_TASK_ID\\_hic_corrected_matrix.h5 >& $SLURM_ARRAY_TASK_ID.correct_matrix.log\n"
   ]
  },
  {
   "cell_type": "markdown",
   "metadata": {},
   "source": [
    "Find TADs in replicates"
   ]
  },
  {
   "cell_type": "code",
   "execution_count": null,
   "metadata": {},
   "outputs": [],
   "source": [
    "#!/bin/bash\n",
    "\n",
    "#SBATCH --partition=main    # Partition (job queue)\n",
    "#SBATCH --job-name=findtads         # Assign an 8-character name to your job, no spaces\n",
    "#SBATCH --nodes=1                # Number of compute nodes\n",
    "#SBATCH --ntasks=1               # Processes (usually = cores) on each node\n",
    "#SBATCH --cpus-per-task=28       # Threads per process (or per core)\n",
    "#SBATCH --export=ALL             # Export you current environment settings to the job environment\n",
    "#SBATCH --time=12:00:00\n",
    "#SBATCH --mem=128000\n",
    "#SBATCH --output=slurm-%A_%a.out\n",
    "#SBATCH --array=\n",
    "\n",
    "BIN=5000\n",
    "\n",
    "hicFindTADs --matrix /dup_1/dmel_hic_corrected_matrix.h5 --minDepth 50000 --maxDepth 200000 --correctForMultipleTesting fdr --outPrefix ./dup_1/dmel\n",
    "hicFindTADs --matrix /dup_2/dmel_hic_corrected_matrix.h5 --minDepth 50000 --maxDepth 200000 --correctForMultipleTesting fdr --outPrefix ./dup_2/dmel\n",
    "\n",
    "hicFindTADs --matrix /dup_1/dtri_hic_corrected_matrix.h5 --minDepth 50000 --maxDepth 200000 --correctForMultipleTesting fdr --outPrefix ./dup_1/dtri\n",
    "hicFindTADs --matrix /dup_2/dtri_hic_corrected_matrix.h5 --minDepth 50000 --maxDepth 200000 --correctForMultipleTesting fdr --outPrefix ./dup_2/dtri"
   ]
  },
  {
   "cell_type": "markdown",
   "metadata": {},
   "source": [
    "Python script to plot and find correlation between TAD separation scores in replicates."
   ]
  },
  {
   "cell_type": "code",
   "execution_count": null,
   "metadata": {},
   "outputs": [],
   "source": [
    "import numpy as np\n",
    "import scipy as sp\n",
    "import matplotlib as mpl\n",
    "import matplotlib.pyplot as plt\n",
    "import pandas as pd\n",
    "from scipy import stats\n",
    "import sys\n",
    "\n",
    "dup1=sys.argv[1]\n",
    "SP=sys.argv[2]\n",
    "\n",
    "df1 = pd.read_csv(dup1, sep = '\\t', header = None)\n",
    "\n",
    "df1S = df1.loc[:,3]\n",
    "df2S = df1.loc[:,7]\n",
    "\n",
    "stats = stats.spearmanr(df1S,df2S)\n",
    "title = str(sp) + \"_\" + str(stats)\n",
    "png = str(sp) + \".png\"\n",
    "\n",
    "\n",
    "plt.scatter(df1S,df2S)\n",
    "plt.title(title)\n",
    "plt.savefig(png)"
   ]
  }
 ],
 "metadata": {
  "kernelspec": {
   "display_name": "Python 3",
   "language": "python",
   "name": "python3"
  },
  "language_info": {
   "codemirror_mode": {
    "name": "ipython",
    "version": 3
   },
   "file_extension": ".py",
   "mimetype": "text/x-python",
   "name": "python",
   "nbconvert_exporter": "python",
   "pygments_lexer": "ipython3",
   "version": "3.8.1"
  }
 },
 "nbformat": 4,
 "nbformat_minor": 4
}
