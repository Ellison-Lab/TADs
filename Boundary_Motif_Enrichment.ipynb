{
 "cells": [
  {
   "cell_type": "markdown",
   "metadata": {},
   "source": [
    "## Boundary motif enrichment\n",
    "\n",
    "**Versions:**\n",
    "Homer: 4.11 \n",
    "bedtools: 2.29.0"
   ]
  },
  {
   "cell_type": "markdown",
   "metadata": {},
   "source": [
    "For the background fasta file, I used the HiCexplorer output file _.bedgraph_ with all 5000bp increments the genome was broken up into to to generate TAD separation scores. "
   ]
  },
  {
   "cell_type": "code",
   "execution_count": null,
   "metadata": {},
   "outputs": [],
   "source": [
    "#target file - dtri boundaries - find fasta for coordinates\n",
    "bedtools getfasta -fi /2.fasta -bed /dmel_dtri_merge/dtri_merge_mid5000 > /dmel_dtri_merge/dtri_boundaries_merge_mid5000_fasta\n",
    "#background file - dtri genome - find fasta for coordinates\n",
    "bedtools getfasta -fi /2.fasta -bed /2_merge_score.bedgraph > dtri_score.bedgraph_to_fasta\n",
    "#homer - find whether HiC explorer boundaries are enriched for certain motifs. \n",
    "findMotifs.pl dtri_boundaries_merge_fasta fly-o out/ -fasta dtri_score.bedgraph_to_fasta"
   ]
  },
  {
   "cell_type": "code",
   "execution_count": null,
   "metadata": {},
   "outputs": [],
   "source": [
    "#dmel boundaries\n",
    "bedtools getfasta -fi /11.fasta -bed /dmel_dtri_merge/dmel_merge_mid5000 > /dmel_dtri_merge/dmel_boundaries_merge_mid5000_fasta\n",
    "bedtools getfasta -fi /11.fasta -bed /11_merge_score.bedgraph > dmel_score.bedgraph_to_fasta\n",
    "findMotifs.pl dmel_boundaries_merge_fasta fly-o out/ -fasta dmel_score.bedgraph_to_fasta\n"
   ]
  },
  {
   "cell_type": "markdown",
   "metadata": {},
   "source": [
    "#### Motif enrichment at novel boundaries\n",
    "\n",
    "Target files: boundary locations in one species that are not a boundary in the other\n",
    "Background files: orthologous genomic location in other species that is NOT a boundary.  "
   ]
  },
  {
   "cell_type": "code",
   "execution_count": null,
   "metadata": {},
   "outputs": [],
   "source": [
    "findMotifs.pl dtri_to_dmel_dtri_nonconserved_coords_fasta fly-o dtri_to_dmel_out_cvnc/ -fasta dtri_to_dmel_dmel_non_boundary_coords_fasta\n",
    "findMotifs.pl dmel_to_dtri_dmel_nonconserved_coords_fasta fly-o dmel_to_dtri_out_cvnc/ -fasta dmel_to_dtri_dtri_non_boundary_coord_fasta"
   ]
  }
 ],
 "metadata": {
  "kernelspec": {
   "display_name": "Python 3",
   "language": "python",
   "name": "python3"
  },
  "language_info": {
   "codemirror_mode": {
    "name": "ipython",
    "version": 3
   },
   "file_extension": ".py",
   "mimetype": "text/x-python",
   "name": "python",
   "nbconvert_exporter": "python",
   "pygments_lexer": "ipython3",
   "version": "3.8.1"
  }
 },
 "nbformat": 4,
 "nbformat_minor": 4
}
