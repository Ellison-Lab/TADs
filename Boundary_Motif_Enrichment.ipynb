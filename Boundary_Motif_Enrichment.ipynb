{
 "cells": [
  {
   "cell_type": "markdown",
   "metadata": {},
   "source": [
    "## Boundary motif enrichment\n",
    "\n",
    "**Versions:**  \n",
    "Homer: 4.11   \n",
    "bedtools: 2.29.0"
   ]
  },
  {
   "cell_type": "markdown",
   "metadata": {},
   "source": [
    "For the background fasta file, I used the HiCexplorer output file _.bedgraph_ with all 5000bp increments the genome was broken up into to to generate TAD separation scores. "
   ]
  },
  {
   "cell_type": "code",
   "execution_count": null,
   "metadata": {},
   "outputs": [],
   "source": [
    "#target file - dtri boundaries - find fasta for coordinates\n",
    "bedtools getfasta -fi /2.fasta -bed /dmel_dtri_merge/dtri_merge_mid5000 > /dmel_dtri_merge/dtri_boundaries_merge_mid5000_fasta\n",
    "#background file - dtri genome - find fasta for coordinates\n",
    "bedtools getfasta -fi /2.fasta -bed /2_merge_score.bedgraph > dtri_score.bedgraph_to_fasta\n",
    "#homer - find whether HiC explorer boundaries are enriched for certain motifs. \n",
    "findMotifs.pl dtri_boundaries_merge_fasta fly-o out/ -fasta dtri_score.bedgraph_to_fasta"
   ]
  },
  {
   "cell_type": "code",
   "execution_count": null,
   "metadata": {},
   "outputs": [],
   "source": [
    "#dmel boundaries\n",
    "bedtools getfasta -fi /11.fasta -bed /dmel_dtri_merge/dmel_merge_mid5000 > /dmel_dtri_merge/dmel_boundaries_merge_mid5000_fasta\n",
    "bedtools getfasta -fi /11.fasta -bed /11_merge_score.bedgraph > dmel_score.bedgraph_to_fasta\n",
    "findMotifs.pl dmel_boundaries_merge_fasta fly-o out/ -fasta dmel_score.bedgraph_to_fasta\n"
   ]
  },
  {
   "cell_type": "markdown",
   "metadata": {},
   "source": [
    "#### Motif enrichment at novel boundaries\n",
    "\n",
    "Target files: boundary locations in one species that are not a boundary in the other.   \n",
    "Background files: orthologous genomic location in other species that is NOT a boundary.  "
   ]
  },
  {
   "cell_type": "code",
   "execution_count": null,
   "metadata": {},
   "outputs": [],
   "source": [
    "findMotifs.pl dtri_to_dmel_dtri_nonconserved_coords_fasta fly-o dtri_to_dmel_out_cvnc/ -fasta dtri_to_dmel_dmel_non_boundary_coords_fasta\n",
    "findMotifs.pl dmel_to_dtri_dmel_nonconserved_coords_fasta fly-o dmel_to_dtri_out_cvnc/ -fasta dmel_to_dtri_dtri_non_boundary_coord_fasta"
   ]
  },
  {
   "cell_type": "markdown",
   "metadata": {},
   "source": [
    "#### Motif enrichment at novel boundaries  vs orthologous region in other species (Table S5)"
   ]
  },
  {
   "cell_type": "markdown",
   "metadata": {},
   "source": [
    "Master.sh"
   ]
  },
  {
   "cell_type": "code",
   "execution_count": null,
   "metadata": {},
   "outputs": [],
   "source": [
    "#find sequence of dtri lineage-specific boundaries and orthologous dmel regions \n",
    "bedtools getfasta -fi dtri_ref.fasta -bed dtri_to_dmel_dtri_nonconserved_coords_with_bound_id > dtri_to_dmel_dtri_nonconserved_coords_with_bound_id_fasta\n",
    "bedtools getfasta -fi dmel_ref.fasta -bed dtri_to_dmel_dmel_nonconserved_coords_with_bound_id > dtri_to_dmel_dmel_nonconserved_coords_with_bound_id_fasta\n",
    "#find sequence of dtri lineage-specific boundaries and orthologous dmel regions \n",
    "bedtools getfasta -fi dtri_ref.fasta -bed dmel_to_dtri_dtri_non_boundary_coord_with_bound_id > dmel_to_dtri_dtri_non_boundary_coord_with_bound_id_fasta\n",
    "bedtools getfasta -fi dmel_ref.fasta -bed dmel_to_dtri_dmel_nonconserved_coords_with_bound_id > dmel_to_dtri_dmel_nonconserved_coords_with_bound_id_fasta\n",
    "\n",
    "sh paired_comp.dtri_beaf.sh\n",
    "sh paired_comp.dtri_m1bp.sh\n",
    "cat t4.dtri.beaf t4.dtri.m1bp | sort -k1,1 | bedtools groupby -g 1 -c 2,3,4 -o sum,sum,distinct > dtri.out\n",
    "\n",
    "sh paired_comp.dmel_beaf.sh\n",
    "sh paired_comp.dmel_m1bp.sh\n",
    "cat t4.dmel.beaf t4.dmel.m1bp | sort -k1,1 | bedtools groupby -g 1 -c 2,3,4 -o sum,sum,distinct > dmel.out\n",
    "\n",
    "cat dmel.out dtri.out | awk '$2>0 || $3>0' > combined_boundary_vs_ortholog.motif_counts"
   ]
  },
  {
   "cell_type": "markdown",
   "metadata": {},
   "source": [
    "paired_comp.dtri_beaf.sh"
   ]
  },
  {
   "cell_type": "code",
   "execution_count": null,
   "metadata": {},
   "outputs": [],
   "source": [
    "#find motifs in dtri lineage-specific boundaries and orthologous dmel regions \n",
    "./bin/fimo --thresh 1e-5 --text BEAF32_MA0529.2.meme dtri_to_dmel_dtri_nonconserved_coords_with_bound_id_fasta | grep -v motif_alt_id | awk '{print $3\"\\t\"$4-1\"\\t\"$5}' | sort -k1,1 -k2,2n | bedtools merge -i - | cut -f 1 | uniq -c | awk '{print $2\"\\t\"$1}' > t1\n",
    "\n",
    "grep \">\" dtri_to_dmel_dtri_nonconserved_coords_with_bound_id_fasta | sed -r 's/>//' | awk '{print $1\"\\t0\"}' >> t1\n",
    "\n",
    "cat t1 | sort -k1,1 | bedtools groupby -g 1 -c 2 -o sum | sort -k1b,1 > t1.1\n",
    "\n",
    "./bin/fimo --thresh 1e-5 --text BEAF32_MA0529.2.meme dtri_to_dmel_dmel_non_boundary_coord_with_bound_id_fasta | grep -v motif_alt_id | awk '{print $3\"\\t\"$4-1\"\\t\"$5}' | sort -k1,1 -k2,2n | bedtools merge -i - | cut -f 1 | sed -r 's/Z[0-9]//' | sort | uniq -c | awk '{print $2\"\\t\"$1}' > t2\n",
    "\n",
    "grep \">\" dtri_to_dmel_dmel_non_boundary_coord_with_bound_id_fasta | sed -r 's/>//' | awk '{print $1\"\\t0\"}' >> t2\n",
    "\n",
    "cat t2 | sort -k1,1 | bedtools groupby -g 1 -c 2 -o sum | sort -k1b,1 > t2.1\n",
    "\n",
    "join t1.1 t2.1 | tr \" \" \"\\t\" > t3\n",
    "\n",
    "join t3 dtri_to_dmel_dmel_non_boundary_coord_with_bound_id_fasta.len | tr \" \" \"\\t\" > t4.dtri.beaf"
   ]
  },
  {
   "cell_type": "markdown",
   "metadata": {},
   "source": [
    "paired_comp.dtri_m1bp.sh"
   ]
  },
  {
   "cell_type": "code",
   "execution_count": null,
   "metadata": {},
   "outputs": [],
   "source": [
    "#find motifs in dtri lineage-specific boundaries and orthologous dmel regions \n",
    "./bin/fimo --thresh 1e-5 --text M1BP_MA1459.1.meme dtri_to_dmel_dtri_nonconserved_coords_with_bound_id_fasta | grep -v motif_alt_id | awk '{print $3\"\\t\"$4-1\"\\t\"$5}' | sort -k1,1 -k2,2n | bedtools merge -i - | cut -f 1 | uniq -c | awk '{print $2\"\\t\"$1}' > t1\n",
    "\n",
    "grep \">\" dtri_to_dmel_dtri_nonconserved_coords_with_bound_id_fasta | sed -r 's/>//' | awk '{print $1\"\\t0\"}' >> t1\n",
    "\n",
    "cat t1 | sort -k1,1 | bedtools groupby -g 1 -c 2 -o sum | sort -k1b,1 > t1.1\n",
    "\n",
    "./bin/fimo --thresh 1e-5 --text M1BP_MA1459.1.meme dtri_to_dmel_dmel_non_boundary_coord_with_bound_id_fasta.rename | grep -v motif_alt_id | awk '{print $3\"\\t\"$4-1\"\\t\"$5}' | sort -k1,1 -k2,2n | bedtools merge -i - | cut -f 1 | sed -r 's/Z[0-9]//' | sort | uniq -c | awk '{print $2\"\\t\"$1}' > t2\n",
    "\n",
    "grep \">\" dtri_to_dmel_dmel_non_boundary_coord_with_bound_id_fasta | sed -r 's/>//' | awk '{print $1\"\\t0\"}' >> t2\n",
    "\n",
    "cat t2 | sort -k1,1 | bedtools groupby -g 1 -c 2 -o sum | sort -k1b,1 > t2.1\n",
    "\n",
    "join t1.1 t2.1 | tr \" \" \"\\t\" > t3\n",
    "\n",
    "join t3 dtri_to_dmel_dmel_non_boundary_coord_with_bound_id_fasta.len | tr \" \" \"\\t\" > t4.dtri.m1bp"
   ]
  },
  {
   "cell_type": "markdown",
   "metadata": {},
   "source": [
    "paired_comp.dmel_beaf.sh"
   ]
  },
  {
   "cell_type": "code",
   "execution_count": null,
   "metadata": {},
   "outputs": [],
   "source": [
    "#find motifs in dmel lineage-specific boundaries and orthologous dtri regions \n",
    "./bin/fimo --thresh 1e-5 --text BEAF32_MA0529.2.meme dmel_to_dtri_dmel_nonconserved_coords_with_bound_id_fasta | grep -v motif_alt_id | awk '{print $3\"\\t\"$4-1\"\\t\"$5}' | sort -k1,1 -k2,2n | bedtools merge -i - | cut -f 1 | uniq -c | awk '{print $2\"\\t\"$1}' > t1\n",
    "\n",
    "grep \">\" dmel_to_dtri_dmel_nonconserved_coords_with_bound_id_fasta | sed -r 's/>//' | awk '{print $1\"\\t0\"}' >> t1\n",
    "\n",
    "cat t1 | sort -k1,1 | bedtools groupby -g 1 -c 2 -o sum | sort -k1b,1 > t1.1\n",
    "\n",
    "./bin/fimo --thresh 1e-5 --text BEAF32_MA0529.2.meme dmel_to_dtri_dtri_non_boundary_coord_with_bound_id_fasta | grep -v motif_alt_id | awk '{print $3\"\\t\"$4-1\"\\t\"$5}' | sort -k1,1 -k2,2n | bedtools merge -i - | cut -f 1 | sed -r 's/Z[0-9]//' | sort | uniq -c | awk '{print $2\"\\t\"$1}' > t2\n",
    "\n",
    "grep \">\" dmel_to_dtri_dtri_non_boundary_coord_with_bound_id_fasta | sed -r 's/>//' | awk '{print $1\"\\t0\"}' >> t2\n",
    "\n",
    "cat t2 | sort -k1,1 | bedtools groupby -g 1 -c 2 -o sum | sort -k1b,1 > t2.1\n",
    "\n",
    "join t1.1 t2.1 | tr \" \" \"\\t\" > t3\n",
    "\n",
    "join t3 dmel_to_dtri_dtri_non_boundary_coord_with_bound_id_fasta.len | tr \" \" \"\\t\" > t4.dmel.beaf\n"
   ]
  },
  {
   "cell_type": "markdown",
   "metadata": {},
   "source": [
    "paired_comp.dmel_m1bp.sh"
   ]
  },
  {
   "cell_type": "code",
   "execution_count": null,
   "metadata": {},
   "outputs": [],
   "source": [
    "#find motifs in dmel lineage-specific boundaries and orthologous dtri regions \n",
    "./bin/fimo --thresh 1e-5 --text M1BP_MA1459.1.meme /projects/genetics/ellison_lab/nicole/homer/dmel_to_dtri_dmel_nonconserved_coords_with_bound_id_fasta | grep -v motif_alt_id | awk '{print $3\"\\t\"$4-1\"\\t\"$5}' | sort -k1,1 -k2,2n | bedtools merge -i - | cut -f 1 | uniq -c | awk '{print $2\"\\t\"$1}' > t1\n",
    "\n",
    "grep \">\" /projects/genetics/ellison_lab/nicole/homer/dmel_to_dtri_dmel_nonconserved_coords_with_bound_id_fasta | sed -r 's/>//' | awk '{print $1\"\\t0\"}' >> t1\n",
    "\n",
    "cat t1 | sort -k1,1 | bedtools groupby -g 1 -c 2 -o sum | sort -k1b,1 > t1.1\n",
    "\n",
    "./bin/fimo --thresh 1e-5 --text M1BP_MA1459.1.meme dmel_to_dtri_dtri_non_boundary_coord_with_bound_id_fasta.rename | grep -v motif_alt_id | awk '{print $3\"\\t\"$4-1\"\\t\"$5}' | sort -k1,1 -k2,2n | bedtools merge -i - | cut -f 1 | sed -r 's/Z[0-9]//' | sort | uniq -c | awk '{print $2\"\\t\"$1}' > t2\n",
    "\n",
    "grep \">\" /projects/genetics/ellison_lab/nicole/homer/dmel_to_dtri_dtri_non_boundary_coord_with_bound_id_fasta | sed -r 's/>//' | awk '{print $1\"\\t0\"}' >> t2\n",
    "\n",
    "cat t2 | sort -k1,1 | bedtools groupby -g 1 -c 2 -o sum | sort -k1b,1 > t2.1\n",
    "\n",
    "join t1.1 t2.1 | tr \" \" \"\\t\" > t3\n",
    "\n",
    "join t3 dmel_to_dtri_dtri_non_boundary_coord_with_bound_id_fasta.len | tr \" \" \"\\t\" > t4.dmel.m1bp"
   ]
  }
 ],
 "metadata": {
  "kernelspec": {
   "display_name": "Python 3",
   "language": "python",
   "name": "python3"
  },
  "language_info": {
   "codemirror_mode": {
    "name": "ipython",
    "version": 3
   },
   "file_extension": ".py",
   "mimetype": "text/x-python",
   "name": "python",
   "nbconvert_exporter": "python",
   "pygments_lexer": "ipython3",
   "version": "3.7.3"
  }
 },
 "nbformat": 4,
 "nbformat_minor": 4
}
