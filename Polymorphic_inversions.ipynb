{
 "cells": [
  {
   "cell_type": "markdown",
   "metadata": {},
   "source": [
    "### D. triauraria inversion breakpoint and TAD boundary observed vs expected analysis"
   ]
  },
  {
   "cell_type": "markdown",
   "metadata": {},
   "source": [
    "__Versions__  \n",
    "Bedtools: 2.29.0    \n",
    "python: 3.7.3"
   ]
  },
  {
   "cell_type": "code",
   "execution_count": null,
   "metadata": {},
   "outputs": [],
   "source": [
    "#file inversion_breakpoint_new2.bed is in the markdown folder\n",
    "# dtri_merge_mid5000 and  dtri_boundaries_lc created in the \"Orthologous boundaries\" markdown\n",
    "bedtools closest -d -a inversion_breakpoint_new2.bed -b dtri_merge_mid5000 > breakpoint_closest_hc\n",
    "bedtools closest -d -a inversion_breakpoint_new2.bed -b dtri_boundaries_lc > breakpoint_closest_lc\n",
    "mkdir shuffle\n",
    "cd shuffle\n",
    "for i in {1..100}; do bedtools shuffle -i ../inversion_breakpoint_new2.bed -g /references_indexed/dtri.chrom_sizes -chrom | sort -k1,1 -k2,2n > $i ; done\n",
    "for i in {1..100}; do bedtools closest -d -a $i -b ../dtri_boundaries_lc > $i\\_closest_lc; done\n",
    "for i in {1..100}; do bedtools closest -d -a $i -b ../dtri_merge_mid5000 > $i\\_closest_hc; done\n",
    "python mean_median.py\n",
    "#to count the number of inversion breakpoints that intersect high confidence boundaries\n",
    "for i in {1..100}; do bedtools intersect -wa -wb -a $i -b ../dtri_merge_mid5000 | wc -l >> boundary_intersect; done"
   ]
  },
  {
   "cell_type": "markdown",
   "metadata": {},
   "source": [
    "mean_median.py"
   ]
  },
  {
   "cell_type": "code",
   "execution_count": null,
   "metadata": {},
   "outputs": [],
   "source": [
    "import pandas as pd\n",
    "import os\n",
    "directory = '/shuffle'\n",
    "\n",
    "mean_file = open(\"lc_mean_shuffle_summary.txt\", \"w\")\n",
    "median_file = open(\"lc_median_shuffle_summary.txt\", \"w\")\n",
    "for filename in os.listdir(directory):\n",
    "    if filename.endswith(\"closest_lc\"):\n",
    "        f = pd.read_csv(filename, header = None, sep = \"\\t\")\n",
    "        mean = f[7].mean()\n",
    "        median = f[7].median()\n",
    "        mean_file.write(str(mean)+ \"\\n\")\n",
    "        median_file.write(str(median) + \"\\n\")\n",
    "mean_file.close()\n",
    "median_file.close()"
   ]
  }
 ],
 "metadata": {
  "kernelspec": {
   "display_name": "Python 3",
   "language": "python",
   "name": "python3"
  },
  "language_info": {
   "codemirror_mode": {
    "name": "ipython",
    "version": 3
   },
   "file_extension": ".py",
   "mimetype": "text/x-python",
   "name": "python",
   "nbconvert_exporter": "python",
   "pygments_lexer": "ipython3",
   "version": "3.7.3"
  }
 },
 "nbformat": 4,
 "nbformat_minor": 4
}
