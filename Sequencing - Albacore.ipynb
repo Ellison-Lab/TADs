{
 "cells": [
  {
   "cell_type": "markdown",
   "metadata": {},
   "source": [
    "# Basecalling\n",
    "\n",
    "__Versions__  \n",
    "Albacore: v1.0.1 (available from Oxford Nanopore Technologies)"
   ]
  },
  {
   "cell_type": "code",
   "execution_count": null,
   "metadata": {},
   "outputs": [],
   "source": [
    "#!/bin/bash\n",
    "#SBATCH --partition=genetics_1 # Partition (job queue)\n",
    "#SBATCH --job-name=albacore # Assign an 8-character name to your job, no spaces\n",
    "#SBATCH --nodes=1 # Number of compute nodes\n",
    "#SBATCH --ntasks=1 # Processes (usually = cores) on each node\n",
    "#SBATCH --cpus-per-task=28 # Threads per process (or per core)\n",
    "#SBATCH --export=ALL # Export you current environment settings to the job environment\n",
    "#SBATCH --time=12:00:00\n",
    "#SBATCH --mem=128000\n",
    "#SBATCH --output=slurm-%A_%a.out\n",
    "#move to directory where the raw data is found\n",
    "\n",
    "cd fast5\n",
    "read_fast5_basecaller.py -i /fast5/$SLURM_ARRAY_TASK_ID -t 28 -s /basecalled_1/$SLURM_ARRAY_TASK_ID -f FLO-MIN106 -k SQK-LSK108 --output_format fastq >& basecalled_1.log"
   ]
  }
 ],
 "metadata": {
  "kernelspec": {
   "display_name": "Python 3",
   "language": "python",
   "name": "python3"
  },
  "language_info": {
   "codemirror_mode": {
    "name": "ipython",
    "version": 3
   },
   "file_extension": ".py",
   "mimetype": "text/x-python",
   "name": "python",
   "nbconvert_exporter": "python",
   "pygments_lexer": "ipython3",
   "version": "3.7.3"
  }
 },
 "nbformat": 4,
 "nbformat_minor": 4
}
