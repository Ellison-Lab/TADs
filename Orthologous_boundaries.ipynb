{
 "cells": [
  {
   "cell_type": "markdown",
   "metadata": {},
   "source": [
    "### Defining orthologous boundaries between _D.melanogaster_ and _D. triauraria_  \n",
    "\n",
    "__Versions__  \n",
    "HiC explorer: 2.2     \n",
    "gcc: 5.4  \n",
    "halLiftover: 2.1  \n",
    "bedtools: 2.29.0  \n",
    "GNU Awk: 4.0.2    \n",
    "join (GNU coreutils): 8.22  \n",
    "sort (GNU coreutils): 8.22\n",
    "\n",
    "Repeatmasker 4.0.9   \n",
    "Perl: 5.26.2  \n",
    "Perl-text-soundex: 3.05   \n",
    "RM_Blast: 2.9.0  \n",
    "TRF: 4.0.9  \n",
    "RepeatDatabase: RepBase\n",
    "\n",
    "Cactus: (no number, original?)  \n",
    "Python: 2.7  \n",
    "Singularity: 2.7.12  "
   ]
  },
  {
   "cell_type": "markdown",
   "metadata": {},
   "source": [
    "#### Cactus:\n",
    "Align genomes. Produce .hal output file\n",
    "\n",
    "Input file:"
   ]
  },
  {
   "cell_type": "code",
   "execution_count": null,
   "metadata": {},
   "outputs": [],
   "source": [
    "Dtriauroria /3_muller_o.fasta.masked\n",
    "Dmelanogaster /dmel-all-chromosome-r6.22_extract_ABCDEF.fasta.masked"
   ]
  },
  {
   "cell_type": "code",
   "execution_count": null,
   "metadata": {},
   "outputs": [],
   "source": [
    "#!/bin/bash\n",
    "#SBATCH -p ellison_1\n",
    "#SBATCH -c 4\n",
    "#SBATCH -N 1\n",
    "#SBATCH -n 1\n",
    "#SBATCH --mem=200G\n",
    "#SBATCH -M amarel\n",
    "#SBATCH -t 32:00:00\n",
    "\n",
    "USER=\n",
    "\n",
    "srun hostname\n",
    "\n",
    "srun date\n",
    "ml\n",
    "module load singularity python/2.7.12\n",
    "ml\n",
    "rm -rf /scratch/$USER/singularity_temp/*\n",
    "\n",
    "\n",
    "cd /scratch/nt365/oarc/cactus\n",
    "\n",
    "\n",
    "source cactus_oarc/bin/activate\n",
    "which cactus\n",
    "\n",
    "toil clean /scratch/$USER/singularity_temp/jobStore\n",
    "\n",
    "export SINGULARITY_CACHEDIR=/scratch/$USER/singularity_temp\n",
    "export SINGULARITY_TMPDIR=/scratch/$USER/singularity_temp\n",
    "export TOIL_WORKDIR=/scratch/$USER/singularity_temp\n",
    "\n",
    "env | grep singularity_temp\n",
    "pip list  #print the current python packages\n",
    "\n",
    "cactus /scratch/$USER/singularity_temp/jobStore dmel_dtri/dmel_dtri.txt dmel_dtri/dmel_dtri.hal --binariesMode singularity\n"
   ]
  },
  {
   "cell_type": "markdown",
   "metadata": {},
   "source": [
    "#### Repeatmasker:\n",
    "Softmask repetitive regions"
   ]
  },
  {
   "cell_type": "code",
   "execution_count": null,
   "metadata": {},
   "outputs": [],
   "source": [
    "#!/bin/bash\n",
    "\n",
    "#SBATCH --partition=main             # Partition (job queue)\n",
    "#SBATCH --requeue                    # Return job to the queue if preempted\n",
    "#SBATCH --job-name=repmask          # Assign an short name to your job\n",
    "#SBATCH --nodes=1                    # Number of nodes you require\n",
    "#SBATCH --ntasks=1                  # Total # of tasks across all nodes\n",
    "#SBATCH --cpus-per-task=28            # Cores per task (>1 if multithread tasks)\n",
    "#SBATCH --mem=150G                 # Real memory (RAM) required (MB)\n",
    "#SBATCH --time=72:00:00              # Total run time limit (HH:MM:SS)\n",
    "#SBATCH --output=slurm.%N.%j.out     # STDOUT output fil\n",
    "#SBATCH --error=slurm.%N.%j.err      # STDERR output file (optional)\n",
    "#SBATCH --export=ALL                 # Export you current env to the job env\n",
    "#SBATCH --array=1-3\n",
    "\n",
    "perl /RepeatMasker/RepeatMasker $SLURM_ARRAY_TASK_ID\\_muller_o.fasta -species drosophila -xsmall"
   ]
  },
  {
   "cell_type": "markdown",
   "metadata": {},
   "source": [
    "Pipeline to identify orthologous boundaries"
   ]
  },
  {
   "cell_type": "markdown",
   "metadata": {},
   "source": [
    "Use bedtools software \"merge\" utility to filter the TAD boundaries identified by HiC_Explorer in both replicates. \n",
    "These are **high confidence** boundaries. \n",
    "Use awk utility to find the mid 5000 bp of each boundary range. "
   ]
  },
  {
   "cell_type": "code",
   "execution_count": null,
   "metadata": {},
   "outputs": [],
   "source": [
    "cat dup_*/dtri_boundaries.bed | sort -k1,1 -k2,2n | awk '$3-$2<=10000' | bedtools merge -i - -c 1 -o count | awk '$4==2' | awk '{print $1\"\\t\"$2\"\\t\"$3\"\\tDTRI_BOUNDARY_\"NR}' > ./dmel_dtri_merge/dtri_boundaries_merge\n",
    "cat dup_*/dmel_boundaries.bed | sort -k1,1 -k2,2n | awk '$3-$2<=10000' | bedtools merge -i - -c 1 -o count | awk '$4==2' | awk '{print $1\"\\t\"$2\"\\t\"$3\"\\tDMEL_BOUNDARY_\"NR}' > ./dmel_dtri_merge/dmel_boundaries_merge\n",
    "awk -F \"\\t\" '{a=$3+$2;b=a/2;c=b+2500;d=b-2500;print $1\"\\t\" d\"\\t\" c\"\\t\" $4}' dtri_boundaries_merge > dtri_merge_mid5000\n",
    "awk -F \"\\t\" '{a=$3+$2;b=a/2;c=b+2500;d=b-2500;print $1\"\\t\" d\"\\t\" c\"\\t\" $4}' dmel_boundaries_merge > dmel_merge_mid5000"
   ]
  },
  {
   "cell_type": "markdown",
   "metadata": {},
   "source": [
    "Use bedtools software \"merge\" utility to filter the TAD boundaries identified by HiC_Explorer in only one replicate. \n",
    "These are **low confidence** boundaries. "
   ]
  },
  {
   "cell_type": "code",
   "execution_count": null,
   "metadata": {},
   "outputs": [],
   "source": [
    "cat dup_*/dmel_boundaries.bed | sort -k1,1 -k2,2n | awk '$3-$2<=10000' | bedtools merge -i - -c 1 -o count | awk '$4==1' | awk '{print $1\"\\t\"$2\"\\t\"$3\"\\tDTRI_BOUNDARY_\"NR}' > ./dmel_dtri_merge/dmel_boundaries_lc\n",
    "cat dup_*/dtri_boundaries.bed | sort -k1,1 -k2,2n | awk '$3-$2<=10000' | bedtools merge -i - -c 1 -o count | awk '$4==1' | awk '{print $1\"\\t\"$2\"\\t\"$3\"\\tDTRI_BOUNDARY_\"NR}' > ./dmel_dtri_merge/dtri_boundaries_lc"
   ]
  },
  {
   "cell_type": "markdown",
   "metadata": {},
   "source": [
    "Use halLiftover to find the corresponding coordinates of the HiC_explorer identified high confidence TAD boundaries in dmel (original species), in dtri (target species).\n",
    "\n",
    "Use bedtools merge to collapse lifted over boundary coordinates within 5000 bp.\n",
    "Use awk to remove lifted over features less than 500bp. 500 bp is 1/10 of an average TAD boundary size therefore we believe features less than 500bp are likely artifacts. "
   ]
  },
  {
   "cell_type": "code",
   "execution_count": null,
   "metadata": {},
   "outputs": [],
   "source": [
    "#!/bin/bash\n",
    "\n",
    "#SBATCH --partition=main    # Partition (job queue)\n",
    "#SBATCH --job-name=halsnps         # Assign an 8-character name to your job, no spaces\n",
    "#SBATCH --nodes=1                # Number of compute nodes\n",
    "#SBATCH --ntasks=1               # Processes (usually = cores) on each node\n",
    "#SBATCH --cpus-per-task=28       # Threads per process (or per core)\n",
    "#SBATCH --export=ALL             # Export you current environment settings to the job environment\n",
    "#SBATCH --time=12:00:00\n",
    "#SBATCH --mem=100G\n",
    "#SBATCH --output=/slurm-%A_%a.out\n",
    "\n",
    "OF=dmel_to_dtri_boundaries/dmel_to_dtri_fdr_ft_then_merge\n",
    "IF=dmel_dtri_merge/dmel_merge_mid5000\n",
    "\n",
    "\n",
    "module load gcc\n",
    "\n",
    "halLiftover dmel_dtri.hal Dmelanogaster $IF  Dtriauroria $OF\n",
    "sort -k1,1 -k2,2n $OF | bedtools merge -i - -d 5000 -c 4 -o distinct > $OF\\_merge.bed \n",
    "awk -F \"\\t\" '{a=$3-$2;print $1\"\\t\" $2\"\\t\" $3\"\\t\" $4\"\\t\"a}' $OF\\_merge.bed | awk '$5>=500'| awk -F \"\\t\" '{print $1\"\\t\" $2\"\\t\" $3\"\\t\" $4}'| sed -r 's/,/\\t/' > $OF\\_merge_500bp.bed"
   ]
  },
  {
   "cell_type": "markdown",
   "metadata": {},
   "source": [
    "Run halLiftover to find the dmel (target) locations of the high confidence Dtri (original) TAD boundary coordinates."
   ]
  },
  {
   "cell_type": "code",
   "execution_count": null,
   "metadata": {},
   "outputs": [],
   "source": [
    "#!/bin/bash\n",
    "\n",
    "#SBATCH --partition=main    # Partition (job queue)\n",
    "#SBATCH --job-name=halsnps         # Assign an 8-character name to your job, no spaces\n",
    "#SBATCH --nodes=1                # Number of compute nodes\n",
    "#SBATCH --ntasks=1               # Processes (usually = cores) on each node\n",
    "#SBATCH --cpus-per-task=28       # Threads per process (or per core)\n",
    "#SBATCH --export=ALL             # Export you current environment settings to the job environment\n",
    "#SBATCH --time=12:00:00\n",
    "#SBATCH --mem=100G\n",
    "#SBATCH --output=slurm-%A_%a.out\n",
    "\n",
    "OF=/dtri_to_dmel_boundaries/dtri_to_dmel_fdr_ft_then_merge\n",
    "IF=/dmel_dtri_merge/dtri_merge_mid5000\n",
    "\n",
    "\n",
    "module load gcc\n",
    "\n",
    "halLiftover /dmel_dtri.hal Dtriauroria $IF  Dmelanogaster $OF \n",
    "sort -k1,1 -k2,2n $OF | bedtools merge -i - -d 5000 -c 4 -o distinct > $OF\\_merge.bed \n",
    "awk -F \"\\t\" '{a=$3-$2;print $1\"\\t\" $2\"\\t\" $3\"\\t\" $4\"\\t\"a}' $OF\\_merge.bed | awk '$5>=500'| awk -F \"\\t\" '{print $1\"\\t\" $2\"\\t\" $3\"\\t\" $4}'| sed -r 's/,/\\t/' > $OF\\_merge_500bp.bed"
   ]
  },
  {
   "cell_type": "markdown",
   "metadata": {},
   "source": [
    "The following commands are run on the lifted over output of _D.tri_ to _Dmel_ and _D.mel_ to _D.tri_ to find:\n",
    "1. print the merged liftover output to a format for input to bedtools.\n",
    "2. Find how many unique boundary locations in the original species have corresponding coordinates in the target\n",
    "3. To find out how many lifted over boundary locations in the target species overlap with the high confidence boundaries in the original species. \n",
    "4. To quantify the number of lifted over boundary locations overlap with the high confidence boundaries. \n",
    "5. Find out how many lifted over boundary locations in the target species overlap with the low confidence boundaries in the original species. \n",
    "6. Quantify the number of lifted over boundary locations overlap with the low confidence boundaries. \n",
    "\n",
    "Sum of number of high confidence and low confidence overlaps = orthologous boundaries. "
   ]
  },
  {
   "cell_type": "code",
   "execution_count": null,
   "metadata": {},
   "outputs": [],
   "source": [
    "1. awk -F'\\t' '!$5{ $5=\"NA\" }1 {print $1\"\\t\" $2\"\\t\" $3\"\\t\" $4\"\\t\"$5}' dmel_to_dtri_fdr_ft_then_merge_merge_500bp.bed > dmel_to_dtri_fdr_ft_then_merge_merge_500bp_f.bed\n",
    "2. cut -f 4,5 dmel_to_dtri_fdr_ft_then_merge_merge_500bp_f.bed | tr \"\\t\" \"\\n\" | tr \",\" \"\\n\" | sort | uniq | grep -c DMEL\n",
    "3. bedtools closest -d -a dmel_to_dtri_fdr_ft_then_merge_merge_500bp_f.bed -b /projects/genetics/ellison_lab/nicole/fdr_boundary_domain_files/dmel_dtri_merge/dtri_merge_mid5000 | awk '$10<=5000' > conserved_dmel_to_dtri_boundaries \n",
    "4. cut -f 4,5 conserved_dmel_to_dtri_boundaries  | tr \"\\t\" \"\\n\" | tr \",\" \"\\n\" | sort | uniq | grep -c DMEL\n",
    "5. bedtools closest -d -a dmel_to_dtri_fdr_ft_then_merge_merge_500bp_f.bed -b /projects/genetics/ellison_lab/nicole/fdr_boundary_domain_files/dmel_dtri_merge/dtri_boundaries_lc | awk '$10<=5000' > nonconserved_dmel_to_dtri_boundaries \n",
    "6. cut -f 4,5 nonconserved_dmel_to_dtri_boundaries | tr \"\\t\" \"\\n\" | tr \",\" \"\\n\" | sort | uniq | grep -c DMEL"
   ]
  },
  {
   "cell_type": "code",
   "execution_count": null,
   "metadata": {},
   "outputs": [],
   "source": [
    "1. awk -F'\\t' '!$5{ $5=\"NA\" }1 {print $1\"\\t\" $2\"\\t\" $3\"\\t\" $4\"\\t\"$5}' dtri_to_dmel_fdr_ft_then_merge_merge_500bp.bed > dtri_to_dmel_fdr_ft_then_merge_merge_500bp_f.bed\n",
    "2. cut -f 4,5 dtri_to_dmel_fdr_ft_then_merge_merge_500bp_f.bed | tr \"\\t\" \"\\n\" | tr \",\" \"\\n\" | sort | uniq | grep -c DTRI\n",
    "3. bedtools closest -d -a dtri_to_dmel_fdr_ft_then_merge_merge_500bp_f.bed -b /projects/genetics/ellison_lab/nicole/fdr_boundary_domain_files/dmel_dtri_merge/dmel_merge_mid5000 | awk '$10<=5000' > conserved_dtri_to_dmel_boundaries\n",
    "4. cut -f 4,5 conserved_dtri_to_dmel_boundaries | tr \"\\t\" \"\\n\" | tr \",\" \"\\n\" | sort | uniq | grep -c DTRI\n",
    "5. bedtools closest -d -a dtri_to_dmel_fdr_ft_then_merge_merge_500bp_f.bed -b /projects/genetics/ellison_lab/nicole/fdr_boundary_domain_files/dmel_dtri_merge/dmel_boundaries_lc | awk '$10<=5000' > nonconserved_dtri_to_dmel_boundaries\n",
    "6. cut -f 4,5 nonconserved_dtri_to_dmel_boundaries| tr \"\\t\" \"\\n\" | tr \",\" \"\\n\" | sort | uniq | grep -c DTRI"
   ]
  }
 ],
 "metadata": {
  "kernelspec": {
   "display_name": "Python 3",
   "language": "python",
   "name": "python3"
  },
  "language_info": {
   "codemirror_mode": {
    "name": "ipython",
    "version": 3
   },
   "file_extension": ".py",
   "mimetype": "text/x-python",
   "name": "python",
   "nbconvert_exporter": "python",
   "pygments_lexer": "ipython3",
   "version": "3.8.1"
  }
 },
 "nbformat": 4,
 "nbformat_minor": 4
}
