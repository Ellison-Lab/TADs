{
 "cells": [
  {
   "cell_type": "markdown",
   "metadata": {},
   "source": [
    "# Genome Assembly and Annotation\n",
    "\n",
    "# Assembly of nanpore reads\n",
    "__Versions__  \n",
    "Canu: 1.7\n",
    "\n",
    "### Canu: \n"
   ]
  },
  {
   "cell_type": "code",
   "execution_count": null,
   "metadata": {},
   "outputs": [],
   "source": [
    "#!/bin/bash\n",
    "#SBATCH --partition=ellison_1 # Partition (job queue)\n",
    "#SBATCH --job-name=canu200 # Assign an 8-character name to your job, no spaces\n",
    "#SBATCH --nodes=1 # Number of compute nodes\n",
    "#SBATCH --ntasks=1 # Processes (usually = cores) on each node\n",
    "#SBATCH --cpus-per-task=28 # Threads per process (or per core)\n",
    "#SBATCH --export=ALL # Export you current environment settings to the job envronment\n",
    "#SBATCH --time=72:00:00\n",
    "#SBATCH --mem=200G\n",
    "\n",
    "canu -p D_triauraria_all_seqs -d D_triauraria_all_sequs_assembly_200m gnuplotTested\\=true overlapper\\=mhap utgReAlign\\=true useGrid\\=0 genomeSize\\=200m -nanopore-raw all_TA_combined_seqs.fastq >& all_TA_combined_seqs_output_200.txt"
   ]
  },
  {
   "cell_type": "markdown",
   "metadata": {},
   "source": [
    "# Quality Control\n",
    "\n",
    "__Versions__   \n",
    "Purge Haplotigs: v1.0.1    \n",
    "Nanopolish: 0.8.4  \n",
    "Pilon: 1.22  \n",
    "bowtie2: 2.2.9  "
   ]
  },
  {
   "cell_type": "markdown",
   "metadata": {},
   "source": [
    "### Purge Haplotigs:\n",
    "identified heterozygosity and determines consensus sequence"
   ]
  },
  {
   "cell_type": "code",
   "execution_count": null,
   "metadata": {},
   "outputs": [],
   "source": [
    "#!/bin/bash\n",
    "#SBATCH --partition=ellison_1 # Partition (job queue)\n",
    "#SBATCH --job-name=PHap # Assign an 8-character name to your job, no spaces\n",
    "#SBATCH --nodes=1 # Number of compute nodes\n",
    "#SBATCH --ntasks=1 # Processes (usually = cores) on each node\n",
    "#SBATCH --cpus-per-task=28 # Threads per process (or per core)\n",
    "#SBATCH --export=ALL # Export you current environment settings to the job envronment\n",
    "#SBATCH --time=72:00:00\n",
    "#SBATCH --mem=200G\n",
    "\n",
    "python nanopolish_makerange.py D_triauraria_all_seqs.contigs.fasta | parallel --results nanopolish.results -P 8 \\\n",
    "    nanopolish variants --consensus -o polished.{1}.vcf -w {1} -r reads.fastq -b reads.sorted.bam -g draft.fa -t 4 --min-candidate-frequency 0.1"
   ]
  },
  {
   "cell_type": "markdown",
   "metadata": {},
   "source": [
    "### Nanopolish:\n",
    "Accounts for errors in nanopore sequencing"
   ]
  },
  {
   "cell_type": "code",
   "execution_count": null,
   "metadata": {},
   "outputs": [],
   "source": [
    "#!/bin/bash\n",
    "#SBATCH --partition=genetics_1 # Partition (job queue)\n",
    "#SBATCH --job-name=nanopol # Assign an 8-character name to your job, no spaces\n",
    "#SBATCH --nodes=1 # Number of compute nodes\n",
    "#SBATCH --ntasks=1 # Processes (usually = cores) on each node\n",
    "#SBATCH --cpus-per-task=28 # Threads per process (or per core)\n",
    "#SBATCH --export=ALL # Export you current environment settings to the job envronment\n",
    "#SBATCH --time=72:00:00\n",
    "#SBATCH --mem=150G\n",
    "#SBATCH --mail-type=END\n",
    "#SBATCH --mail-user=\n",
    "\n",
    "python nanopolish_makerange.py /all_TA_combined/curated.fa | parallel --results nanopolish.results -P 6 \\\n",
    " nanopolish variants --consensus -o polished.{1}.vcf -w {1} -r /run_3_sequs.fastq -b /curated_run3_sequs.sorted.bam -g /all_TA_combined/curated.fa -t 4 --min-candidate-frequency 0.1"
   ]
  },
  {
   "cell_type": "code",
   "execution_count": null,
   "metadata": {},
   "outputs": [],
   "source": [
    "#!/bin/bash\n",
    "#SBATCH --partition=ellison_1 # Partition (job queue)\n",
    "#SBATCH --job-name=nanopol # Assign an 8-character name to your job, no spaces\n",
    "#SBATCH --nodes=1 # Number of compute nodes\n",
    "#SBATCH --ntasks=1 # Processes (usually = cores) on each node\n",
    "#SBATCH --cpus-per-task=28 # Threads per process (or per core)\n",
    "#SBATCH --export=ALL # Export you current environment settings to the job envronment\n",
    "#SBATCH --time=72:00:00\n",
    "#SBATCH --mem=150G\n",
    "\n",
    "nanopolish vcf2fasta -g /all_TA_combined/curated.fa polished.*.vcf > polished_genome.fa"
   ]
  },
  {
   "cell_type": "markdown",
   "metadata": {},
   "source": [
    "### Pilon:\n",
    "Combines nanopore and Illumina data to correct sequencing errors."
   ]
  },
  {
   "cell_type": "code",
   "execution_count": null,
   "metadata": {},
   "outputs": [],
   "source": [
    "#!/bin/bash\n",
    " #SBATCH --partition=ellison_1 # Partition (job queue)\n",
    "#SBATCH --job-name=allpilon # Assign an 8-character name to your job\n",
    "#SBATCH --nodes=1 # Number of compute nodes\n",
    "#SBATCH --ntasks=1 # Processes (usually = cores) on each node\n",
    "#SBATCH --cpus-per-task=28 # Threads per process (or per core)\n",
    " #SBATCH --export=ALL # Export you current environment settings to the job environment\n",
    "#SBATCH --time=12:00:00\n",
    "#SBATCH --mem=128G\n",
    "module load bowtie2\n",
    "\n",
    "bowtie2-build pilon_1.fasta pilon_1_index\n",
    "\n",
    "bowtie2 -X 1200 -p 28 --no-unal -x pilon_1_index -S TA_illumina_Pilon_15.sam -1 /TA_illumina/sample_trimmed_1P.fastq.gz -2 /TA_illumina/sample_trimmed_2P.fastq.gz\n",
    "\n",
    "samtools view -b TA_illumina_Pilon_1.sam > TA_illumina_Pilon_1.bam\n",
    "\n",
    "samtools sort TA_illumina_Pilon_1.bam > TA_illumina_Pilon_1.sorted.bam\n",
    "\n",
    "samtools index TA_illumina_Pilon_1.sorted.bam\n",
    "\n",
    "pilon --genome pilon_1.fasta --frags TA_illumina_Pilon_1.sorted.bam --output pilon_2 --changes --minmq 15 &> pilon_1.log"
   ]
  },
  {
   "cell_type": "markdown",
   "metadata": {},
   "source": [
    "# Scaffolding\n",
    "\n",
    "### Juicer and 3D DNA alignment pipeline  \n",
    "\n",
    "__Versions__:  \n",
    "BWA:0.7.13  \n",
    "JUICER:1.5.6  \n",
    "JUICEBOX: 1.11.08   \n",
    "3D-DNA: 180419  "
   ]
  },
  {
   "cell_type": "markdown",
   "metadata": {},
   "source": [
    "Prepare reference genome"
   ]
  },
  {
   "cell_type": "code",
   "execution_count": null,
   "metadata": {},
   "outputs": [],
   "source": [
    "bwa index reference.fasta\n",
    "samtools faidx reference.fasta\n",
    "#fasta.fai has the length of each scaffold. Print first 2 columns for scaffold ID and length info\n",
    "awk '{print $1,$2}' reference.fasta.fai > reference.chrom.sizes"
   ]
  },
  {
   "cell_type": "markdown",
   "metadata": {},
   "source": [
    "Combine replicate HiC files "
   ]
  },
  {
   "cell_type": "code",
   "execution_count": null,
   "metadata": {},
   "outputs": [],
   "source": [
    "#submit SLURM script with the following to combine replicate fastq files\n",
    "zcat ./d_species_HiC_*_R1_001.fastq.gz | gzip > combined_reps_R1.fastq.gz\n",
    "zcat ./d_species_HiC_*_R2_001.fastq.gz | gzip > combined_reps_R2.fastq.gz"
   ]
  },
  {
   "cell_type": "markdown",
   "metadata": {},
   "source": [
    "Run JUICER to align HiC reads to reference assembly, create a contact matrix (.hic), and a \"merged_nodups.txt\" file to input to 3D-DNA"
   ]
  },
  {
   "cell_type": "code",
   "execution_count": null,
   "metadata": {},
   "outputs": [],
   "source": [
    "juicer.sh -d /Dtria/juicer/work/Dtria -p/scratch/tg484/Dtria/juicer/references/Dtria_20181107_r2_illumina_reformat.chrom.sizes -s none -z /Dtria/juicer/references/Dtria_20181107_r2_illumina.reformat.fa -D /Dtria/juicer -t 28 -b GCTGAGGGATCCCTCAGC"
   ]
  },
  {
   "cell_type": "markdown",
   "metadata": {},
   "source": [
    "Run **3D-DNA**  \n",
    "First run without --editor-repeat-coverage flag. "
   ]
  },
  {
   "cell_type": "code",
   "execution_count": null,
   "metadata": {},
   "outputs": [],
   "source": [
    "run-asm-pipeline.sh ---build-gapped-map -m diploid -i 5000 -r 3 /Dtria/juicer/references/Dtria_20181107_r2_illumina.reformat.fa /Dtria/juicer/work/Dtria/aligned/merged_nodups.txt >& /Dtria/3D-DNA/3d-dna.log"
   ]
  },
  {
   "cell_type": "markdown",
   "metadata": {},
   "source": [
    "View the **rawchrom.assembly** output using Juicebox. If the output looks poorly aligned, run the following two commands to view a text based histogram. Run --editor-repeat coverage flag with value corresponding to the peak of the histogram."
   ]
  },
  {
   "cell_type": "code",
   "execution_count": null,
   "metadata": {},
   "outputs": [],
   "source": [
    "bash ~/pkg/3d-dna/edit/run-coverage-analyzer.sh ./3D-DNA_d_species/reference.0.hic\n",
    "awk -f plot_coverage.awk coverage_wide.wig "
   ]
  },
  {
   "cell_type": "code",
   "execution_count": null,
   "metadata": {},
   "outputs": [],
   "source": [
    "#final 3D-DNA command using \"--editor-repeat-coverage 6\" because peak of histogram was around 6\n",
    "run-asm-pipeline.sh ---build-gapped-map --editor-repeat-coverage 6 -m diploid -i 5000 -r 3 /Dtria/juicer/references/Dtria_20181107_r2_illumina.reformat.fa /Dtria/juicer/work/Dtria/aligned/merged_nodups.txt >& /Dtria/3D-DNA/3d-dna.log"
   ]
  },
  {
   "cell_type": "markdown",
   "metadata": {},
   "source": [
    "Once obtaining fairly well-aligned output. Edit any misalignments using JUICEBOX. Export new assembly (called **.review.assembly**) and create new fasta file using the following command. This command will output a CAPITALIZED **(.FINAL.fasta)** file that should be used in downstream analysis."
   ]
  },
  {
   "cell_type": "code",
   "execution_count": null,
   "metadata": {},
   "outputs": [],
   "source": [
    "module load java\n",
    "./pkg/3d-dna/run-asm-pipeline-post-review.sh -r reference.rawchrom.review.assembly ./juicer/references/reference.fa ./juicer/work/d_species/aligned/merged_nodups.txt >& final_fasta.log\n",
    "#the .review.assembly file is the edited file from JUICEBOX. This command will output a CAPITALIZED (.FINAL.fasta) file that should be used in downstream analysis."
   ]
  },
  {
   "cell_type": "code",
   "execution_count": null,
   "metadata": {},
   "outputs": [],
   "source": [
    "module load java\n",
    "./pkg/3d-dna/run-asm-pipeline-post-review.sh -r reference.rawchrom.review.assembly ./juicer/references/reference.fa ./juicer/work/d_species/aligned/merged_nodups.txt >& final_fasta.log\n",
    "#the .review.assembly file is the edited file from JUICEBOX. This command will output a CAPITALIZED (.FINAL.fasta) file that should be used in downstream analysis."
   ]
  },
  {
   "cell_type": "markdown",
   "metadata": {},
   "source": [
    "Assign D. triauraria megascaffolds to corresponding Muller element.\n",
    "\n",
    "Sanity check: Check the number of genes on each Muller element in the final <tt>chrom_count_table<tt>.    \n",
    "Should be between ~1000-3500 for Muller A - E. Muller F ~50-75. "
   ]
  },
  {
   "cell_type": "code",
   "execution_count": null,
   "metadata": {},
   "outputs": [],
   "source": [
    "module load samtools\n",
    "module load blast\n",
    "\n",
    "# GET LENGTHS OF SCAFFOLDS\n",
    "# scaffold lengths will be stored in the second column of NAME.scaffolded.fai\n",
    "samtools faidx reference.FINAL.fasta \n",
    "makeblastdb -dbtype nucl -in reference.FINAL.fasta \n",
    "tblastn -query dmel_r6_longest_isoform.pep.fasta -db reference.FINAL.fasta -evalue 1e-4 -outfmt 6 > d_species.tblastn\n",
    "# KEEP ONLY THE BEST HIT FOR EACH QUERY\n",
    "python /projects/genetics/ellison_lab/scripts/best.py d_species.tblastn > d_species.tblastn.best\n",
    "\n",
    "# COUNT THE NUMBER OF PEPTIDES FROM EACH DMEL CHROMOSOME THAT MATCH EACH SCAFFOLD IN THE ASSEMBLY\n",
    "cut -f 1,2 d_species.tblastn.best | sed -r 's/_/\\t/' | sort -k3 | bedtools groupby -g 3 -c 2 -o freqdesc > d_species.chrom_count\n",
    "\n",
    "echo -e \"SCAFFOLD\\tLENGTH\\tMULLER_A\\tMULLER_B\\tMULLER_C\\tMULLER_D\\tMULLER_E\\tMULLER_F\\tOTHER\\tTOTAL\" > d_species.chrom_count_table.txt\n",
    "\n",
    "python blast_chrom_count2table.py d_species.chrom_count reference.FINAL.fasta.fai | sort -k2 -nr >> d_species.chrom_count_table.txt"
   ]
  },
  {
   "cell_type": "markdown",
   "metadata": {},
   "source": [
    "blast_chrom_count2table.py"
   ]
  },
  {
   "cell_type": "code",
   "execution_count": null,
   "metadata": {},
   "outputs": [],
   "source": [
    "import sys\n",
    "\n",
    "countfile=sys.argv[1]\n",
    "lengthfile=sys.argv[2]\n",
    "\n",
    "lengths={}\n",
    "le=open(lengthfile)\n",
    "for scaff in le:\n",
    "    slist=scaff.rstrip().split(\"\\t\")\n",
    "    lengths[slist[0]]=slist[1]\n",
    "\n",
    "#print(\"SCAFFOLD\",\"LENGTH\",\"MULLER_A\",\"MULLER_B\",\"MULLER_C\",\"MULLER_D\",\"MULLER_E\",\"MULLER_F\",\"OTHER\",\"TOTAL\",sep=\"\\t\")\n",
    "muller = {\"2L\":\"Muller_B\",\"2R\":\"Muller_C\",\"3L\":\"Muller_D\",\"3R\":\"Muller_E\",\"4\":\"Muller_F\",\"X\":\"Muller_A\"}\n",
    "\n",
    "output = {}\n",
    "fh=open(countfile)\n",
    "for line in fh:\n",
    "    list1=line.rstrip().split(\"\\t\")\n",
    "    list2=list1[1].split(\",\")\n",
    "    outdict = {\"Muller_A\":0,\n",
    "               \"Muller_B\":0,\n",
    "               \"Muller_C\":0,\n",
    "               \"Muller_D\":0,\n",
    "               \"Muller_E\":0,\n",
    "               \"Muller_F\":0}\n",
    "    other = {}\n",
    "    chromSum=0\n",
    "    for c in list2:\n",
    "        (chrom,num) = c.split(\":\")\n",
    "        chromSum+=int(num)\n",
    "        if muller.get(chrom):\n",
    "            mchrom = muller[chrom]\n",
    "            outdict[mchrom] += int(num)\n",
    "        else:\n",
    "            other[chrom] = num\n",
    "    outline = [list1[0],lengths[list1[0]],outdict[\"Muller_A\"],outdict[\"Muller_B\"],outdict[\"Muller_C\"],outdict[\"Muller_D\"],outdict[\"Muller_E\"],outdict[\"Muller_F\"]]\n",
    "    other_list=[]\n",
    "    if(other):\n",
    "        for m,n in other.items():\n",
    "            item = m+\":\"+n\n",
    "            other_list.append(item)\n",
    "    else:\n",
    "        other_list.append(\"NA:NA\")\n",
    "    other_str = ','.join(other_list)\n",
    "    outline.append(other_str)\n",
    "    outline.append(chromSum)\n",
    "    convert = [str(i) for i in outline] \n",
    "    print(\"\\t\".join(convert))\n"
   ]
  },
  {
   "cell_type": "markdown",
   "metadata": {},
   "source": [
    "best.py"
   ]
  },
  {
   "cell_type": "code",
   "execution_count": null,
   "metadata": {},
   "outputs": [],
   "source": [
    "import sys\n",
    "\n",
    "filename = sys.argv[1]\n",
    "fh = open(filename)\n",
    "\n",
    "hits = {}\n",
    "best = {}\n",
    "tot=0\n",
    "for line in fh:\n",
    "    tot+=1\n",
    "    line = line.rstrip()\n",
    "    cols = line.split('\\t')\n",
    "    qid  = cols[0]\n",
    "    scr  = float(cols[11])\n",
    "    if best.get(qid):\n",
    "        if scr > best[qid]:\n",
    "            best[qid] = float(scr)\n",
    "#            print(best[qid])\n",
    "    else:\n",
    "        best[qid] = scr\n",
    "#        print(best[qid])\n",
    "    if hits.get(qid):\n",
    "        if hits[qid].get(scr):\n",
    "            hits[qid][scr].append(line)\n",
    "        else:\n",
    "            hits[qid][scr] = [line]\n",
    "    else:\n",
    "        hits[qid] = {}\n",
    "        hits[qid][scr]=[line]\n",
    "fh.close()\n",
    "\n",
    "all_hits = hits.keys()\n",
    "qtot = len(all_hits)\n",
    "\n",
    "for i in all_hits:\n",
    "    score = best[i]\n",
    "    outstring = '\\n'.join(hits[i][score])\n",
    "    print(outstring)\n",
    "print('Parsed a total of',tot,'alignments and reported the best hit for',qtot,'queries.',file=sys.stderr)"
   ]
  },
  {
   "cell_type": "markdown",
   "metadata": {},
   "source": [
    "# Annotation\n",
    "\n",
    "### MAKER pipeline\n",
    "\n",
    "__Versions__:  \n",
    "Maker: 2.31.10  \n",
    "stringtie: 2.0  \n",
    "HISAT2:  2.1.0  \n",
    "trimmomatic: 0.38    \n",
    "samtools: 1.9     \n",
    "gffread: 0.11.8     \n",
    "Augustus: 3.3.2  \n",
    "SNAP: 1.0beta.18 "
   ]
  },
  {
   "cell_type": "markdown",
   "metadata": {},
   "source": [
    "Remove adaptor sequences from RNAseq data using _Trimmomatic_"
   ]
  },
  {
   "cell_type": "code",
   "execution_count": null,
   "metadata": {},
   "outputs": [],
   "source": [
    "#!/bin/bash\n",
    "#SBATCH --partition=genetics_1 # Partition (job queue)\n",
    "#SBATCH --job-name=trim # Assign an 8-character name to your job, no spaces\n",
    "#SBATCH --nodes=1 # Number of compute nodes\n",
    "#SBATCH --ntasks=1 # Processes (usually = cores) on each node\n",
    "#SBATCH --cpus-per-task=28 # Threads per process (or per core)\n",
    "#SBATCH --export=ALL # Export you current environment settings to the job envronment\n",
    "#SBATCH --time=10:00:00\n",
    "#SBATCH --mem=100G\n",
    "cd /RNAseq_dtri_testes\n",
    "trimmomatic PE dtri_testes_mRNA_RNAseq_9_S9_R1_001.fastq dtri_testes_mRNA_RNAseq_9_S9_R2_001.fastq -baseout sample_trimmed.fastq.gz ILLUMINACLIP:TruSeq3-PE.fa:2:30:10 LEADING:10 TRAILING:10 SLIDINGWINDOW:4:15 MINLEN:36\n",
    "\n",
    "cd /RNAseq_dtri_ovaries\n",
    "trimmomatic PE dtri_ovaries_mRNA_RNAseq_3_S3_R1_001.fastq dtri_ovaries_mRNA_RNAseq_3_S3_R2_001.fastq -baseout sample_trimmed.fastq.gz ILLUMINACLIP:TruSeq3-PE.fa:2:30:10 LEADING:10 TRAILING:10 SLIDINGWINDOW:4:15 MINLEN:36\n",
    "\n",
    "cd /RNAseq_dtri_embryos\n",
    "trimmomatic PE dtri_embryos_mRNA_RNAseq_1_S1_R1_001.fastq dtri_embryos_mRNA_RNAseq_1_S1_R2_001.fastq -baseout sample_trimmed.fastq.gz ILLUMINACLIP:TruSeq3-PE.fa:2:30:10 LEADING:10 TRAILING:10 SLIDINGWINDOW:4:15 MINLEN:36\n"
   ]
  },
  {
   "cell_type": "markdown",
   "metadata": {},
   "source": [
    "Align the _D. triauraria_ RNA-seq Illumina reads to the _D. triauraria_ reference genome using _HISAT2_"
   ]
  },
  {
   "cell_type": "code",
   "execution_count": null,
   "metadata": {},
   "outputs": [],
   "source": [
    "#!/bin/bash\n",
    "#SBATCH --partition=genetics_1    # Partition (job queue)\n",
    "#SBATCH --job-name=hisat2       # Assign an 8-character name to your job, no spaces\n",
    "#SBATCH --nodes=1                 # Number of compute nodes\n",
    "#SBATCH --ntasks=1                # Processes (usually = cores) on each node\n",
    "#SBATCH --cpus-per-task=28        # Threads per process (or per core)\n",
    "#SBATCH --export=ALL              # Export you current environment settings to the job environment\n",
    "#SBATCH --time=12:00:00\n",
    "#SBATCH --mem=100G\n",
    "\n",
    "hisat2 --rna-strandness RF --dta --max-intronlen 50000 --no-unal -x tria_ordered_muller_plus_other_scaffs_index -1 /RNAseq_dtri_embryos/sample_trimmed_1P.fastq.gz -2 /RNAseq_dtri_embryos/sample_trimmed_2P.fastq.gz > RNAseq_dtri_embryos_out.sam\n",
    "\n",
    "hisat2 --rna-strandness RF --dta --max-intronlen 50000 --no-unal -x tria_ordered_muller_plus_other_scaffs_index -1 /RNAseq_dtri_ovaries/sample_trimmed_1P.fastq.gz -2 /RNAseq_dtri_ovaries/sample_trimmed_2P.fastq.gz > RNAseq_dtri_ovaries_out.sam\n",
    "\n",
    "hisat2 --rna-strandness RF --dta --max-intronlen 50000 --no-unal -x tria_ordered_muller_plus_other_scaffs_index -1 /RNAseq_dtri_testes/sample_trimmed_1P.fastq.gz -2 /RNAseq_dtri_testes/sample_trimmed_2P.fastq.gz > RNAseq_dtri_testes_out.sam\n"
   ]
  },
  {
   "cell_type": "markdown",
   "metadata": {},
   "source": [
    "convert sam to bam files   \n",
    "sort sam files"
   ]
  },
  {
   "cell_type": "code",
   "execution_count": null,
   "metadata": {},
   "outputs": [],
   "source": [
    "#!/bin/bash\n",
    "#SBATCH --partition=genetics_1    # Partition (job queue)\n",
    "#SBATCH --job-name=hisat2SAM       # Assign an 8-character name to your job, no spaces\n",
    "#SBATCH --nodes=1                 # Number of compute nodes\n",
    "#SBATCH --ntasks=1                # Processes (usually = cores) on each node\n",
    "#SBATCH --cpus-per-task=28        # Threads per process (or per core)\n",
    "#SBATCH --export=ALL              # Export you current environment settings to the job environment\n",
    "#SBATCH --time=12:00:00\n",
    "#SBATCH --mem=50G\n",
    "\n",
    "\n",
    "samtools view -bS dtri_embryos_out.sam > dtri_embryos_out.bam\n",
    "samtools sort dtri_embryos_out.bam > dtri_embryos_out_sort.bam\n",
    "\n",
    "samtools view -bS dtri_ovaries_out.sam > dtri_ovaries_out.bam\n",
    "samtools sort dtri_ovaries_out.bam > dtri_ovaries_out_sort.bam\n",
    "\n",
    "samtools view -bS dtri_testes_out.sam > dtri_testes_out.bam\n",
    "samtools sort dtri_testes_out.bam > dtri_testes_out_sort.bam"
   ]
  },
  {
   "cell_type": "markdown",
   "metadata": {},
   "source": [
    "_HISAT2_ alignments were used to assemble mRNA transcripts with _stringtie_"
   ]
  },
  {
   "cell_type": "code",
   "execution_count": null,
   "metadata": {},
   "outputs": [],
   "source": [
    "#generate gtf file from bam files\n",
    "stringtie dtri_embryos_HISAT2_2_sort.bam ‐j 3 ‐‐rf ‐o dtri_embryos_HISAT2_2.gtf \n",
    "\n",
    "#merge the gtf files  \n",
    "stringtie ‐‐merge dtri_embryos_HISAT2_2.gtf dtri_embryos_HISAT2_2.gtf \n",
    "dtri_embryos_HISAT2_2.gtf ‐o dtri_all_sequs_merged.gtf \n",
    "\n",
    "#create fasta file for MAKER input\n",
    "gffread ‐w dtri_all_sequs_transcripts.fa ‐g dtria_ordered_muller_plus_other_scaffs.fasta dtri_all_sequs_merged.gtf"
   ]
  },
  {
   "cell_type": "markdown",
   "metadata": {},
   "source": [
    "Generate _MAKER_ configuration files: (found below)   \n",
    "**maker_exe.ctl** - paths to the executables used by MAKER.  \n",
    "**maker_bopt.ctl** - all of the statistics for BLAST, we used all defaults.   \n",
    "**maker_opt.ctl** - contains all other information for MAKER, including the location of the input genome file.  "
   ]
  },
  {
   "cell_type": "code",
   "execution_count": null,
   "metadata": {},
   "outputs": [],
   "source": [
    "maker -CTL"
   ]
  },
  {
   "cell_type": "markdown",
   "metadata": {},
   "source": [
    "Run _MAKER_"
   ]
  },
  {
   "cell_type": "code",
   "execution_count": null,
   "metadata": {},
   "outputs": [],
   "source": [
    "#!/bin/bash\n",
    "#SBATCH --partition=genetics_1    # Partition (job queue)\n",
    "#SBATCH --job-name=MAKER       # Assign an 8-character name to your job, no spaces\n",
    "#SBATCH --nodes=1                 # Number of compute nodes\n",
    "#SBATCH --ntasks=1                # Processes (usually = cores) on each node\n",
    "#SBATCH --cpus-per-task=28        # Threads per process (or per core)\n",
    "#SBATCH --export=ALL              # Export you current environment settings to the job environment\n",
    "#SBATCH --time=72:00:00\n",
    "#SBATCH --mem=100G\n",
    "\n",
    "cd /maker_main_run\n",
    "module use /projects/community/modulefiles/\n",
    "module load augustus\n",
    "export AUGUSTUS_CONFIG_PATH=/projects/community/augustus/augustus-3.3.2/config\n",
    " \n",
    "/pkg/maker/bin/maker -cpus 28 "
   ]
  },
  {
   "cell_type": "markdown",
   "metadata": {},
   "source": [
    "maker_exe.ctl"
   ]
  },
  {
   "cell_type": "code",
   "execution_count": null,
   "metadata": {},
   "outputs": [],
   "source": [
    "#-----Location of Executables Used by MAKER/EVALUATOR\n",
    "makeblastdb=/anaconda3/bin/makeblastdb #location of NCBI+ makeblastdb executable\n",
    "blastn=/anaconda3/bin/blastn #location of NCBI+ blastn executable\n",
    "blastx=/anaconda3/bin/blastx #location of NCBI+ blastx executable\n",
    "tblastx=/anaconda3/bin/tblastx #location of NCBI+ tblastx executable\n",
    "formatdb= #location of NCBI formatdb executable\n",
    "blastall= #location of NCBI blastall executable\n",
    "xdformat= #location of WUBLAST xdformat executable\n",
    "blasta= #location of WUBLAST blasta executable\n",
    "RepeatMasker=/pkg/maker/bin/../exe/RepeatMasker/RepeatMasker #location of RepeatMasker executable\n",
    "exonerate=/pkg/maker/bin/../exe/exonerate/bin/exonerate #location of exonerate executable\n",
    "\n",
    "#-----Ab-initio Gene Prediction Algorithms\n",
    "snap=/bin/snap #location of snap executable\n",
    "gmhmme3=/pkg/gm_et_linux_64/gmes_petap/gmhmme3 #location of eukaryotic genemark executable\n",
    "gmhmmp= #location of prokaryotic genemark executable\n",
    "augustus=/projects/community/augustus/augustus-3.3.2/bin/augustus #location of augustus executable\n",
    "fgenesh= #location of fgenesh executable\n",
    "tRNAscan-SE= #location of trnascan executable\n",
    "snoscan= #location of snoscan executable\n",
    "\n",
    "#-----Other Algorithms\n",
    "probuild=/pkg/gm_et_linux_64/gmes_petap/probuild #location of probuild executable (required for genemark)\n"
   ]
  },
  {
   "cell_type": "markdown",
   "metadata": {},
   "source": [
    "maker_bopt.ctl"
   ]
  },
  {
   "cell_type": "code",
   "execution_count": null,
   "metadata": {},
   "outputs": [],
   "source": [
    "#-----BLAST and Exonerate Statistics Thresholds\n",
    "blast_type=ncbi+ #set to 'ncbi+', 'ncbi' or 'wublast'\n",
    "\n",
    "pcov_blastn=0.8 #Blastn Percent Coverage Threhold EST-Genome Alignments\n",
    "pid_blastn=0.85 #Blastn Percent Identity Threshold EST-Genome Aligments\n",
    "eval_blastn=1e-10 #Blastn eval cutoff\n",
    "bit_blastn=40 #Blastn bit cutoff\n",
    "depth_blastn=0 #Blastn depth cutoff (0 to disable cutoff)\n",
    "\n",
    "pcov_blastx=0.5 #Blastx Percent Coverage Threhold Protein-Genome Alignments\n",
    "pid_blastx=0.4 #Blastx Percent Identity Threshold Protein-Genome Aligments\n",
    "eval_blastx=1e-06 #Blastx eval cutoff\n",
    "bit_blastx=30 #Blastx bit cutoff\n",
    "depth_blastx=0 #Blastx depth cutoff (0 to disable cutoff)\n",
    "\n",
    "pcov_tblastx=0.8 #tBlastx Percent Coverage Threhold alt-EST-Genome Alignments\n",
    "pid_tblastx=0.85 #tBlastx Percent Identity Threshold alt-EST-Genome Aligments\n",
    "eval_tblastx=1e-10 #tBlastx eval cutoff\n",
    "bit_tblastx=40 #tBlastx bit cutoff\n",
    "depth_tblastx=0 #tBlastx depth cutoff (0 to disable cutoff)\n",
    "\n",
    "pcov_rm_blastx=0.5 #Blastx Percent Coverage Threhold For Transposable Element Masking\n",
    "pid_rm_blastx=0.4 #Blastx Percent Identity Threshold For Transposbale Element Masking\n",
    "eval_rm_blastx=1e-06 #Blastx eval cutoff for transposable element masking\n",
    "bit_rm_blastx=30 #Blastx bit cutoff for transposable element masking\n",
    "\n",
    "ep_score_limit=20 #Exonerate protein percent of maximal score threshold\n",
    "en_score_limit=20 #Exonerate nucleotide percent of maximal score threshold\n"
   ]
  },
  {
   "cell_type": "markdown",
   "metadata": {},
   "source": [
    "maker_opt.ctl"
   ]
  },
  {
   "cell_type": "code",
   "execution_count": null,
   "metadata": {},
   "outputs": [],
   "source": [
    "#-----Genome (these are always required)\n",
    "genome=/dtria_ordered_muller_plus_other_scaffs.fasta #genome sequence (fasta file or fasta embeded in GFF3 file)\n",
    "organism_type=eukaryotic #eukaryotic or prokaryotic. Default is eukaryotic\n",
    "\n",
    "#-----Re-annotation Using MAKER Derived GFF3\n",
    "maker_gff= #MAKER derived GFF3 file\n",
    "est_pass=0 #use ESTs in maker_gff: 1 = yes, 0 = no\n",
    "altest_pass=0 #use alternate organism ESTs in maker_gff: 1 = yes, 0 = no\n",
    "protein_pass=0 #use protein alignments in maker_gff: 1 = yes, 0 = no\n",
    "rm_pass=0 #use repeats in maker_gff: 1 = yes, 0 = no\n",
    "model_pass=0 #use gene models in maker_gff: 1 = yes, 0 = no\n",
    "pred_pass=0 #use ab-initio predictions in maker_gff: 1 = yes, 0 = no\n",
    "other_pass=0 #passthrough anyything else in maker_gff: 1 = yes, 0 = no\n",
    "\n",
    "#-----EST Evidence (for best results provide a file for at least one)\n",
    "est=/dtri_all_sequs_transcripts.fa #set of ESTs or assembled mRNA-seq in fasta format\n",
    "altest= #EST/cDNA sequence file in fasta format from an alternate organism\n",
    "est_gff= #aligned ESTs or mRNA-seq from an external GFF3 file\n",
    "altest_gff= #aligned ESTs from a closly relate species in GFF3 format\n",
    "\n",
    "#-----Protein Homology Evidence (for best results provide a file for at least one)\n",
    "protein=/dmel-all-translation-r6.26.fasta #protein sequence file in fasta format (i.e. from mutiple oransisms)\n",
    "protein_gff=  #aligned protein homology evidence from an external GFF3 file\n",
    "\n",
    "#-----Repeat Masking (leave values blank to skip repeat masking)\n",
    "model_org=drosophila #select a model organism for RepBase masking in RepeatMasker\n",
    "rmlib= #provide an organism specific repeat library in fasta format for RepeatMasker\n",
    "repeat_protein=/pkg/maker/data/te_proteins.fasta #provide a fasta file of transposable element proteins for RepeatRunner\n",
    "rm_gff= #pre-identified repeat elements from an external GFF3 file\n",
    "prok_rm=0 #forces MAKER to repeatmask prokaryotes (no reason to change this), 1 = yes, 0 = no\n",
    "softmask=1 #use soft-masking rather than hard-masking in BLAST (i.e. seg and dust filtering)\n",
    "\n",
    "#-----Gene Prediction\n",
    "snaphmm=/pkg/snap/HMM/D.melanogaster.hmm #SNAP HMM file\n",
    "gmhmm= #GeneMark HMM file\n",
    "augustus_species=fly #Augustus gene prediction species model\n",
    "fgenesh_par_file= #FGENESH parameter file\n",
    "pred_gff= #ab-initio predictions from an external GFF3 file\n",
    "model_gff= #annotated gene models from an external GFF3 file (annotation pass-through)\n",
    "est2genome=0 #infer gene predictions directly from ESTs, 1 = yes, 0 = no\n",
    "protein2genome=0 #infer predictions from protein homology, 1 = yes, 0 = no\n",
    "trna=0 #find tRNAs with tRNAscan, 1 = yes, 0 = no\n",
    "snoscan_rrna= #rRNA file to have Snoscan find snoRNAs\n",
    "unmask=0 #also run ab-initio prediction programs on unmasked sequence, 1 = yes, 0 = no\n",
    "\n",
    "#-----Other Annotation Feature Types (features MAKER doesn't recognize)\n",
    "other_gff= #extra features to pass-through to final MAKER generated GFF3 file\n",
    "\n",
    "#-----External Application Behavior Options\n",
    "alt_peptide=C #amino acid used to replace non-standard amino acids in BLAST databases\n",
    "cpus=28 #max number of cpus to use in BLAST and RepeatMasker (not for MPI, leave 1 when using MPI)\n",
    "\n",
    "#-----MAKER Behavior Options\n",
    "max_dna_len=100000 #length for dividing up contigs into chunks (increases/decreases memory usage)\n",
    "min_contig=1 #skip genome contigs below this length (under 10kb are often useless)\n",
    "\n",
    "pred_flank=200 #flank for extending evidence clusters sent to gene predictors\n",
    "pred_stats=0 #report AED and QI statistics for all predictions as well as models\n",
    "AED_threshold=1 #Maximum Annotation Edit Distance allowed (bound by 0 and 1)\n",
    "min_protein=0 #require at least this many amino acids in predicted proteins\n",
    "alt_splice=0 #Take extra steps to try and find alternative splicing, 1 = yes, 0 = no\n",
    "always_complete=0 #extra steps to force start and stop codons, 1 = yes, 0 = no\n",
    "map_forward=0 #map names and attributes forward from old GFF3 genes, 1 = yes, 0 = no\n",
    "keep_preds=0 #Concordance threshold to add unsupported gene prediction (bound by 0 and 1)\n",
    "\n",
    "split_hit=10000 #length for the splitting of hits (expected max intron size for evidence alignments)\n",
    "single_exon=0 #consider single exon EST evidence when generating annotations, 1 = yes, 0 = no\n",
    "single_length=250 #min length required for single exon ESTs if 'single_exon is enabled'\n",
    "correct_est_fusion=0 #limits use of ESTs in annotation to avoid fusion genes\n",
    "\n",
    "tries=2 #number of times to try a contig if there is a failure for some reason\n",
    "clean_try=0 #remove all data from previous run before retrying, 1 = yes, 0 = no\n",
    "clean_up=0 #removes theVoid directory with individual analysis files, 1 = yes, 0 = no\n",
    "TMP= #specify a directory other than the system default temporary directory for temporary files\n"
   ]
  }
 ],
 "metadata": {
  "kernelspec": {
   "display_name": "Python 3",
   "language": "python",
   "name": "python3"
  },
  "language_info": {
   "codemirror_mode": {
    "name": "ipython",
    "version": 3
   },
   "file_extension": ".py",
   "mimetype": "text/x-python",
   "name": "python",
   "nbconvert_exporter": "python",
   "pygments_lexer": "ipython3",
   "version": "3.7.3"
  }
 },
 "nbformat": 4,
 "nbformat_minor": 4
}
