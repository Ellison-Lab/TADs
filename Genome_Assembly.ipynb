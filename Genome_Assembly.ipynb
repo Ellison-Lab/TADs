{
 "cells": [
  {
   "cell_type": "markdown",
   "metadata": {},
   "source": [
    "# Genome Assembly\n",
    "\n",
    "__Versions__  \n",
    "Canu: 1.7\n",
    "\n",
    "### Canu: \n",
    "Assembly of nanpore reads"
   ]
  },
  {
   "cell_type": "code",
   "execution_count": null,
   "metadata": {},
   "outputs": [],
   "source": [
    "#!/bin/bash\n",
    "#SBATCH --partition=ellison_1 # Partition (job queue)\n",
    "#SBATCH --job-name=canu200 # Assign an 8-character name to your job, no spaces\n",
    "#SBATCH --nodes=1 # Number of compute nodes\n",
    "#SBATCH --ntasks=1 # Processes (usually = cores) on each node\n",
    "#SBATCH --cpus-per-task=28 # Threads per process (or per core)\n",
    "#SBATCH --export=ALL # Export you current environment settings to the job envronment\n",
    "#SBATCH --time=72:00:00\n",
    "#SBATCH --mem=200G\n",
    "\n",
    "canu -p D_triauraria_all_seqs -d D_triauraria_all_sequs_assembly_200m gnuplotTested\\=true overlapper\\=mhap utgReAlign\\=true useGrid\\=0 genomeSize\\=200m -nanopore-raw all_TA_combined_seqs.fastq >& all_TA_combined_seqs_output_200.txt"
   ]
  },
  {
   "cell_type": "markdown",
   "metadata": {},
   "source": [
    "# Quality Control\n",
    "\n",
    "__Versions__   \n",
    "Purge Haplotigs: v1.0.1    \n",
    "Nanopolish: 0.8.4  \n",
    "Pilon: 1.22  \n",
    "bowtie2: 2.2.9  "
   ]
  },
  {
   "cell_type": "markdown",
   "metadata": {},
   "source": [
    "### Purge Haplotigs:\n",
    "identified heterozygosity and determines consensus sequence"
   ]
  },
  {
   "cell_type": "code",
   "execution_count": null,
   "metadata": {},
   "outputs": [],
   "source": [
    "#!/bin/bash\n",
    "#SBATCH --partition=ellison_1 # Partition (job queue)\n",
    "#SBATCH --job-name=PHap # Assign an 8-character name to your job, no spaces\n",
    "#SBATCH --nodes=1 # Number of compute nodes\n",
    "#SBATCH --ntasks=1 # Processes (usually = cores) on each node\n",
    "#SBATCH --cpus-per-task=28 # Threads per process (or per core)\n",
    "#SBATCH --export=ALL # Export you current environment settings to the job envronment\n",
    "#SBATCH --time=72:00:00\n",
    "#SBATCH --mem=200G\n",
    "\n",
    "python nanopolish_makerange.py D_triauraria_all_seqs.contigs.fasta | parallel --results nanopolish.results -P 8 \\\n",
    "    nanopolish variants --consensus -o polished.{1}.vcf -w {1} -r reads.fastq -b reads.sorted.bam -g draft.fa -t 4 --min-candidate-frequency 0.1"
   ]
  },
  {
   "cell_type": "markdown",
   "metadata": {},
   "source": [
    "### Nanopolish:\n",
    "Accounts for errors in nanopore sequencing"
   ]
  },
  {
   "cell_type": "code",
   "execution_count": null,
   "metadata": {},
   "outputs": [],
   "source": [
    "#!/bin/bash\n",
    "#SBATCH --partition=genetics_1 # Partition (job queue)\n",
    "#SBATCH --job-name=nanopol # Assign an 8-character name to your job, no spaces\n",
    "#SBATCH --nodes=1 # Number of compute nodes\n",
    "#SBATCH --ntasks=1 # Processes (usually = cores) on each node\n",
    "#SBATCH --cpus-per-task=28 # Threads per process (or per core)\n",
    "#SBATCH --export=ALL # Export you current environment settings to the job envronment\n",
    "#SBATCH --time=72:00:00\n",
    "#SBATCH --mem=150G\n",
    "#SBATCH --mail-type=END\n",
    "#SBATCH --mail-user=ama390@scarletmail.rutgers.edu\n",
    "\n",
    "python nanopolish_makerange.py /all_TA_combined/curated.fa | parallel --results nanopolish.results -P 6 \\\n",
    " nanopolish variants --consensus -o polished.{1}.vcf -w {1} -r /run_3_sequs.fastq -b /curated_run3_sequs.sorted.bam -g /all_TA_combined/curated.fa -t 4 --min-candidate-frequency 0.1"
   ]
  },
  {
   "cell_type": "code",
   "execution_count": null,
   "metadata": {},
   "outputs": [],
   "source": [
    "#!/bin/bash\n",
    "#SBATCH --partition=ellison_1 # Partition (job queue)\n",
    "#SBATCH --job-name=nanopol # Assign an 8-character name to your job, no spaces\n",
    "#SBATCH --nodes=1 # Number of compute nodes\n",
    "#SBATCH --ntasks=1 # Processes (usually = cores) on each node\n",
    "#SBATCH --cpus-per-task=28 # Threads per process (or per core)\n",
    "#SBATCH --export=ALL # Export you current environment settings to the job envronment\n",
    "#SBATCH --time=72:00:00\n",
    "#SBATCH --mem=150G\n",
    "\n",
    "nanopolish vcf2fasta -g /all_TA_combined/curated.fa polished.*.vcf > polished_genome.fa"
   ]
  },
  {
   "cell_type": "markdown",
   "metadata": {},
   "source": [
    "### Pilon:\n",
    "Combines nanopore and Illumina data to correct sequencing errors."
   ]
  },
  {
   "cell_type": "code",
   "execution_count": null,
   "metadata": {},
   "outputs": [],
   "source": [
    "#!/bin/bash\n",
    " #SBATCH --partition=ellison_1 # Partition (job queue)\n",
    "#SBATCH --job-name=allpilon # Assign an 8-character name to your job\n",
    "#SBATCH --nodes=1 # Number of compute nodes\n",
    "#SBATCH --ntasks=1 # Processes (usually = cores) on each node\n",
    "#SBATCH --cpus-per-task=28 # Threads per process (or per core)\n",
    " #SBATCH --export=ALL # Export you current environment settings to the job environment\n",
    "#SBATCH --time=12:00:00\n",
    "#SBATCH --mem=128G\n",
    "module load bowtie2\n",
    "\n",
    "bowtie2-build pilon_1.fasta pilon_1_index\n",
    "\n",
    "bowtie2 -X 1200 -p 28 --no-unal -x pilon_1_index -S TA_illumina_Pilon_15.sam -1 /TA_illumina/sample_trimmed_1P.fastq.gz -2 /TA_illumina/sample_trimmed_2P.fastq.gz\n",
    "\n",
    "samtools view -b TA_illumina_Pilon_1.sam > TA_illumina_Pilon_1.bam\n",
    "\n",
    "samtools sort TA_illumina_Pilon_1.bam > TA_illumina_Pilon_1.sorted.bam\n",
    "\n",
    "samtools index TA_illumina_Pilon_1.sorted.bam\n",
    "\n",
    "pilon --genome pilon_1.fasta --frags TA_illumina_Pilon_1.sorted.bam --output pilon_2 --changes --minmq 15 &> pilon_1.log"
   ]
  },
  {
   "cell_type": "markdown",
   "metadata": {},
   "source": [
    "# Scaffolding\n",
    "\n",
    "### Juicer and 3D DNA alignment pipeline  \n",
    "\n",
    "__Versions__:  \n",
    "BWA:0.7.13  \n",
    "JUICER:1.5.6  \n",
    "JUICEBOX: 1.11.08   \n",
    "3D-DNA: 180419  "
   ]
  },
  {
   "cell_type": "markdown",
   "metadata": {},
   "source": [
    "Prepare reference genome"
   ]
  },
  {
   "cell_type": "code",
   "execution_count": null,
   "metadata": {},
   "outputs": [],
   "source": [
    "bwa index reference.fasta\n",
    "samtools faidx reference.fasta\n",
    "#fasta.fai has the length of each scaffold. Print first 2 columns for scaffold ID and length info\n",
    "awk '{print $1,$2}' reference.fasta.fai > reference.chrom.sizes"
   ]
  },
  {
   "cell_type": "markdown",
   "metadata": {},
   "source": [
    "Combine replicate HiC files "
   ]
  },
  {
   "cell_type": "code",
   "execution_count": null,
   "metadata": {},
   "outputs": [],
   "source": [
    "#submit SLURM script with the following to combine replicate fastq files\n",
    "zcat ./d_species_HiC_*_R1_001.fastq.gz | gzip > combined_reps_R1.fastq.gz\n",
    "zcat ./d_species_HiC_*_R2_001.fastq.gz | gzip > combined_reps_R2.fastq.gz"
   ]
  },
  {
   "cell_type": "markdown",
   "metadata": {},
   "source": [
    "Run JUICER to align HiC reads to reference assembly, create a contact matrix (.hic), and a \"merged_nodups.txt\" file to input to 3D-DNA"
   ]
  },
  {
   "cell_type": "code",
   "execution_count": null,
   "metadata": {},
   "outputs": [],
   "source": [
    "juicer.sh -d /Dtria/juicer/work/Dtria -p/scratch/tg484/Dtria/juicer/references/Dtria_20181107_r2_illumina_reformat.chrom.sizes -s none -z /Dtria/juicer/references/Dtria_20181107_r2_illumina.reformat.fa -D /Dtria/juicer -t 28 -b GCTGAGGGATCCCTCAGC"
   ]
  },
  {
   "cell_type": "markdown",
   "metadata": {},
   "source": [
    "Run **3D-DNA**  \n",
    "First run without --editor-repeat-coverage flag. "
   ]
  },
  {
   "cell_type": "code",
   "execution_count": null,
   "metadata": {},
   "outputs": [],
   "source": [
    "run-asm-pipeline.sh ---build-gapped-map -m diploid -i 5000 -r 3 /Dtria/juicer/references/Dtria_20181107_r2_illumina.reformat.fa /Dtria/juicer/work/Dtria/aligned/merged_nodups.txt >& /Dtria/3D-DNA/3d-dna.log"
   ]
  },
  {
   "cell_type": "markdown",
   "metadata": {},
   "source": [
    "View the **rawchrom.assembly** output using Juicebox. If the output looks poorly aligned, run the following two commands to view a text based histogram. Run --editor-repeat coverage flag with value corresponding to the peak of the histogram."
   ]
  },
  {
   "cell_type": "code",
   "execution_count": null,
   "metadata": {},
   "outputs": [],
   "source": [
    "bash ~/pkg/3d-dna/edit/run-coverage-analyzer.sh ./3D-DNA_d_species/reference.0.hic\n",
    "awk -f plot_coverage.awk coverage_wide.wig "
   ]
  },
  {
   "cell_type": "code",
   "execution_count": null,
   "metadata": {},
   "outputs": [],
   "source": [
    "#final 3D-DNA command using \"--editor-repeat-coverage 6\" because peak of histogram was around 6\n",
    "run-asm-pipeline.sh ---build-gapped-map --editor-repeat-coverage 6 -m diploid -i 5000 -r 3 /Dtria/juicer/references/Dtria_20181107_r2_illumina.reformat.fa /Dtria/juicer/work/Dtria/aligned/merged_nodups.txt >& /Dtria/3D-DNA/3d-dna.log"
   ]
  },
  {
   "cell_type": "markdown",
   "metadata": {},
   "source": [
    "Once obtaining fairly well-aligned output. Edit any misalignments using JUICEBOX. Export new assembly (called **.review.assembly**) and create new fasta file using the following command. This command will output a CAPITALIZED **(.FINAL.fasta)** file that should be used in downstream analysis."
   ]
  },
  {
   "cell_type": "code",
   "execution_count": null,
   "metadata": {},
   "outputs": [],
   "source": [
    "module load java\n",
    "./pkg/3d-dna/run-asm-pipeline-post-review.sh -r reference.rawchrom.review.assembly ./juicer/references/reference.fa ./juicer/work/d_species/aligned/merged_nodups.txt >& final_fasta.log\n",
    "#the .review.assembly file is the edited file from JUICEBOX. This command will output a CAPITALIZED (.FINAL.fasta) file that should be used in downstream analysis."
   ]
  },
  {
   "cell_type": "code",
   "execution_count": null,
   "metadata": {},
   "outputs": [],
   "source": [
    "module load java\n",
    "./pkg/3d-dna/run-asm-pipeline-post-review.sh -r reference.rawchrom.review.assembly ./juicer/references/reference.fa ./juicer/work/d_species/aligned/merged_nodups.txt >& final_fasta.log\n",
    "#the .review.assembly file is the edited file from JUICEBOX. This command will output a CAPITALIZED (.FINAL.fasta) file that should be used in downstream analysis."
   ]
  },
  {
   "cell_type": "markdown",
   "metadata": {},
   "source": [
    "Assign D. triauraria megascaffolds to corresponding Muller element.\n",
    "\n",
    "Sanity check: Check the number of genes on each Muller element in the final <tt>chrom_count_table<tt>.    \n",
    "Should be between ~1000-3500 for Muller A - E. Muller F ~50-75. "
   ]
  },
  {
   "cell_type": "code",
   "execution_count": null,
   "metadata": {},
   "outputs": [],
   "source": [
    "module load samtools\n",
    "module load blast\n",
    "\n",
    "# GET LENGTHS OF SCAFFOLDS\n",
    "# scaffold lengths will be stored in the second column of NAME.scaffolded.fai\n",
    "samtools faidx reference.FINAL.fasta \n",
    "makeblastdb -dbtype nucl -in reference.FINAL.fasta \n",
    "tblastn -query dmel_r6_longest_isoform.pep.fasta -db reference.FINAL.fasta -evalue 1e-4 -outfmt 6 > d_species.tblastn\n",
    "# KEEP ONLY THE BEST HIT FOR EACH QUERY\n",
    "python /projects/genetics/ellison_lab/scripts/best.py d_species.tblastn > d_species.tblastn.best\n",
    "\n",
    "# COUNT THE NUMBER OF PEPTIDES FROM EACH DMEL CHROMOSOME THAT MATCH EACH SCAFFOLD IN THE ASSEMBLY\n",
    "cut -f 1,2 d_species.tblastn.best | sed -r 's/_/\\t/' | sort -k3 | bedtools groupby -g 3 -c 2 -o freqdesc > d_species.chrom_count\n",
    "\n",
    "echo -e \"SCAFFOLD\\tLENGTH\\tMULLER_A\\tMULLER_B\\tMULLER_C\\tMULLER_D\\tMULLER_E\\tMULLER_F\\tOTHER\\tTOTAL\" > d_species.chrom_count_table.txt\n",
    "\n",
    "python blast_chrom_count2table.py d_species.chrom_count reference.FINAL.fasta.fai | sort -k2 -nr >> d_species.chrom_count_table.txt"
   ]
  },
  {
   "cell_type": "markdown",
   "metadata": {},
   "source": [
    "blast_chrom_count2table.py"
   ]
  },
  {
   "cell_type": "code",
   "execution_count": null,
   "metadata": {},
   "outputs": [],
   "source": [
    "import sys\n",
    "\n",
    "countfile=sys.argv[1]\n",
    "lengthfile=sys.argv[2]\n",
    "\n",
    "lengths={}\n",
    "le=open(lengthfile)\n",
    "for scaff in le:\n",
    "    slist=scaff.rstrip().split(\"\\t\")\n",
    "    lengths[slist[0]]=slist[1]\n",
    "\n",
    "#print(\"SCAFFOLD\",\"LENGTH\",\"MULLER_A\",\"MULLER_B\",\"MULLER_C\",\"MULLER_D\",\"MULLER_E\",\"MULLER_F\",\"OTHER\",\"TOTAL\",sep=\"\\t\")\n",
    "muller = {\"2L\":\"Muller_B\",\"2R\":\"Muller_C\",\"3L\":\"Muller_D\",\"3R\":\"Muller_E\",\"4\":\"Muller_F\",\"X\":\"Muller_A\"}\n",
    "\n",
    "output = {}\n",
    "fh=open(countfile)\n",
    "for line in fh:\n",
    "    list1=line.rstrip().split(\"\\t\")\n",
    "    list2=list1[1].split(\",\")\n",
    "    outdict = {\"Muller_A\":0,\n",
    "               \"Muller_B\":0,\n",
    "               \"Muller_C\":0,\n",
    "               \"Muller_D\":0,\n",
    "               \"Muller_E\":0,\n",
    "               \"Muller_F\":0}\n",
    "    other = {}\n",
    "    chromSum=0\n",
    "    for c in list2:\n",
    "        (chrom,num) = c.split(\":\")\n",
    "        chromSum+=int(num)\n",
    "        if muller.get(chrom):\n",
    "            mchrom = muller[chrom]\n",
    "            outdict[mchrom] += int(num)\n",
    "        else:\n",
    "            other[chrom] = num\n",
    "    outline = [list1[0],lengths[list1[0]],outdict[\"Muller_A\"],outdict[\"Muller_B\"],outdict[\"Muller_C\"],outdict[\"Muller_D\"],outdict[\"Muller_E\"],outdict[\"Muller_F\"]]\n",
    "    other_list=[]\n",
    "    if(other):\n",
    "        for m,n in other.items():\n",
    "            item = m+\":\"+n\n",
    "            other_list.append(item)\n",
    "    else:\n",
    "        other_list.append(\"NA:NA\")\n",
    "    other_str = ','.join(other_list)\n",
    "    outline.append(other_str)\n",
    "    outline.append(chromSum)\n",
    "    convert = [str(i) for i in outline] \n",
    "    print(\"\\t\".join(convert))\n"
   ]
  }
 ],
 "metadata": {
  "kernelspec": {
   "display_name": "Python 3",
   "language": "python",
   "name": "python3"
  },
  "language_info": {
   "codemirror_mode": {
    "name": "ipython",
    "version": 3
   },
   "file_extension": ".py",
   "mimetype": "text/x-python",
   "name": "python",
   "nbconvert_exporter": "python",
   "pygments_lexer": "ipython3",
   "version": "3.8.1"
  }
 },
 "nbformat": 4,
 "nbformat_minor": 4
}
