{
 "cells": [
  {
   "cell_type": "markdown",
   "metadata": {},
   "source": [
    "### Defining orthologous domains between _D.melanogaster_ and _D. triauraria_  \n",
    "\n",
    "__Versions__  \n",
    "HiC explorer: 2.2     \n",
    "gcc: 5.4  \n",
    "halLiftover: 2.1  \n",
    "bedtools: 2.29.0  \n",
    "GNU Awk: 4.0.2    \n",
    "join (GNU coreutils): 8.22  \n",
    "sort (GNU coreutils): 8.22"
   ]
  },
  {
   "cell_type": "markdown",
   "metadata": {},
   "source": [
    "First, use bedtools intersect to find the TAD domains identified in both replicates for Dmel and Dtri. Domain start and stop coordinates should be within 5000kb. Find the average of the starts and stops for intersecting domains. These are **high confidence** domains. Reassign domain numbers to these high confidence domains.   \n",
    "Sort the list of high confidence domains and report their sizes. Count the number of lines in the merged file for the number of high confidence domains.   \n",
    "Merge and sort all of the domains in both replicates. "
   ]
  },
  {
   "cell_type": "code",
   "execution_count": null,
   "metadata": {},
   "outputs": [],
   "source": [
    "bedtools intersect -wa -wb -a ./dup_1/dtri_domains.bed -b ./dup_2/dtri_domains.bed | awk '(($12-$3>=0 && $12-$3<=5000) || ($3-$12>=0 && $3-$12<=5000)) && (($11-$2>=0 && $11-$2<=5000) || ($2-$11>=0 && $2-$11<=5000))' | awk '{print  $1\"\\t\"($2+$11)/2\"\\t\"($3+$12)/2\"\\t\"\"DTRI_DOMAINS_\"NR}' >  ./dmel_dtri_merge/dtri_domains_int\n",
    "sort -k1,1 -k2,2n ./dmel_dtri_merge/dtri_domains_int > ./dmel_dtri_merge/dtri_domains_int_sorted\n",
    "wc -l ./dmel_dtri_merge/dmel_domains_int\n",
    "cat ./dmel_dtri_merge/dtri_domains_int | awk '{print $4\"\\t\"$3-$2}' | sort -k1b,1 > ./dmel_dtri_merge/dtri_domains_int_sizes\n",
    "cat ./dup_*/dtri_domains.bed |sort -k1,1 -k2,2n > ./dmel_dtri_merge/dtri_domains_cat_sorted\n",
    "\n",
    "bedtools intersect -wa -wb -a ./dup_1/dmel_domains.bed -b ./dup_2/dmel_domains.bed | awk '(($12-$3>=0 && $12-$3<=5000) || ($3-$12>=0 && $3-$12<=5000)) && (($11-$2>=0 && $11-$2<=5000) || ($2-$11>=0 && $2-$11<=5000))' | awk '{print  $1\"\\t\"($2+$11)/2\"\\t\"($3+$12)/2\"\\t\"\"DMEL_DOMAINS_\"NR}' >  ./dmel_dtri_merge/dmel_domains_int\n",
    "sort -k1,1 -k2,2n ./dmel_dtri_merge/dmel_domains_int > ./dmel_dtri_merge/dmel_domains_int_sorted\n",
    "cat ./dmel_dtri_merge/dmel_domains_int | awk '{print $4\"\\t\"$3-$2}' | sort -k1b,1 > ./dmel_dtri_merge/dmel_domains_int_sizes\n",
    "cat ./dup_*/dmel_domains.bed |sort -k1,1 -k2,2n > ./dmel_dtri_merge/dmel_domains_cat_sorted\n"
   ]
  },
  {
   "cell_type": "markdown",
   "metadata": {},
   "source": [
    "Liftover each domain individually. Move the file _d*_domains_int_ into a separate folder and create files each containing one line --> one domain.    \n",
    "Remove original domains file _dmel_domains_int_ and _dtri_domains_int_ from the folder with the individual domain files. "
   ]
  },
  {
   "cell_type": "code",
   "execution_count": null,
   "metadata": {},
   "outputs": [],
   "source": [
    "mkdir dmel_to_dtri_domains\n",
    "cp ./dmel_dtri_merge/dmel_domains_int ./dmel_to_dtri_domains/\n",
    "split -l 1 --numeric-suffixes dmel_domains_int q\n",
    "rename q0 \"\" *\n",
    "rename q \"\" *\n",
    "rm dmel_domains_int\n",
    "\n",
    "mkdir dtri_to_dmel_domains\n",
    "cp ./dmel_dtri_merge/dtri_domains_int ./dtri_to_dmel_domains/\n",
    "split -l 1 --numeric-suffixes dtri_domains_int q\n",
    "rename q0 \"\" *\n",
    "rename q \"\" *\n",
    "rm dtri_domains_int"
   ]
  },
  {
   "cell_type": "markdown",
   "metadata": {},
   "source": [
    "Liftover steps:\n",
    "1. Perform halLiftover for each individual domain. \n",
    "2. Merge the lifted over domains that are within 20kb. \n",
    "3. Remove lifted over features that are less than 5000 bp since this is 1/10th of the expected size of a domain. \n",
    "4. Used bedtools groupby utility to calculate the size of the lifted over domain. "
   ]
  },
  {
   "cell_type": "code",
   "execution_count": null,
   "metadata": {},
   "outputs": [],
   "source": [
    "#!/bin/bash\n",
    "\n",
    "#SBATCH --partition=main    # Partition (job queue)\n",
    "#SBATCH --job-name=halsnps         # Assign an 8-character name to your job, no spaces\n",
    "#SBATCH --nodes=1                # Number of compute nodes\n",
    "#SBATCH --ntasks=1               # Processes (usually = cores) on each node\n",
    "#SBATCH --cpus-per-task=28       # Threads per process (or per core)\n",
    "#SBATCH --export=ALL             # Export you current environment settings to the job environment\n",
    "#SBATCH --time=12:00:00\n",
    "#SBATCH --mem=100G\n",
    "#SBATCH --output=slurm-%A_%a.out\n",
    "\n",
    "\n",
    "\n",
    "module load gcc\n",
    "for file in /dmel_to_dtri_domains/* \n",
    "do \n",
    "\thalLiftover dmel_dtri.hal Dmelanogaster $file Dtriauroria $file\\.bed\n",
    "done\n",
    "for file in /dmel_to_dtri_domains/*.bed\n",
    "do \n",
    "\tsort -k1,1 -k2,2n $file | bedtools merge -i - -d 20000 -c 4 -o distinct > $file\\_merge \n",
    "done\n",
    "\n",
    "for file in /dmel_to_dtri_domains/*.bed_merge \n",
    "do \n",
    "\tawk '$3-$2 >= 5000' $file > $file\\_5000\n",
    "done\n",
    "\n",
    "#sometimes this needs to be run on the command line\n",
    "for file in /dmel_to_dtri_domains/*.bed_merge_5000\n",
    "do  \n",
    "\tawk '{print $0\"\\t\"$3-$2}' $file | bedtools groupby -g 4 -c 5 -o sum  > $file\\_group \n",
    "done\n",
    "\n"
   ]
  },
  {
   "cell_type": "code",
   "execution_count": null,
   "metadata": {},
   "outputs": [],
   "source": [
    "#!/bin/bash\n",
    "\n",
    "#SBATCH --partition=main    # Partition (job queue)\n",
    "#SBATCH --job-name=halsnps         # Assign an 8-character name to your job, no spaces\n",
    "#SBATCH --nodes=1                # Number of compute nodes\n",
    "#SBATCH --ntasks=1               # Processes (usually = cores) on each node\n",
    "#SBATCH --cpus-per-task=28       # Threads per process (or per core)\n",
    "#SBATCH --export=ALL             # Export you current environment settings to the job environment\n",
    "#SBATCH --time=12:00:00\n",
    "#SBATCH --mem=100G\n",
    "#SBATCH --output=slurm-%A_%a.out\n",
    "\n",
    "\n",
    "module load gcc\n",
    "for file in /dtri_to_dmel_domains/* \n",
    "do \n",
    "\thalLiftover dmel_dtri.hal Dtriauroria $file Dmelanogaster $file\\.bed\n",
    "done\n",
    "for file in /dtri_to_dmel_domains/*.bed\n",
    "do \n",
    "\tsort -k1,1 -k2,2n $file | bedtools merge -i - -d 20000 -c 4 -o distinct > $file\\_merge \n",
    "done\n",
    "\n",
    "for file in /dtri_to_dmel_domains/*.bed_merge \n",
    "do \n",
    "\tawk '$3-$2 >= 5000' $file > $file\\_5000\n",
    "done\n",
    "\n",
    "for file in /dtri_to_dmel_domains/*.bed_merge_5000\n",
    "do  \n",
    "\tawk '{print $0\"\\t\"$3-$2}' $file | bedtools groupby -g 4 -c 5 -o sum  > $file\\_group \n",
    "done\n",
    "\n"
   ]
  },
  {
   "cell_type": "markdown",
   "metadata": {},
   "source": [
    "Run the following in each domain folder. (*Example shown for D. melanogaster to D. triauroria liftover.*)\n",
    "1. combine all the lifted over domains into one file. Count the number of unique domains lifted over. \n",
    "2. combine all the bedtools groupby output for each lifted over domain into one file\n",
    "3. combine liftover target genomic coordinates with original domain coordinates.  \n",
    "4. Add the sizes of the original and lifted over domains to the file step 1.\n",
    "5. Add the sizes of the original and lifted over domains to the file step 2.\n",
    "6. filter out lifted over domains that are less than half of the original domain size or more than 50% larger than the original domain. These are **truncated** and **expanded domains**.\n",
    "7. Print the truncated and expanded domains to a file and calculate the number of unique lifted over domains that are truncated or expanded. \n",
    "8. Find the number of unique, **contiguous** lifted over domains from the original in the target. \n",
    "9. join the list of contiguous domains with their coordinate information. \n",
    "10. sort and filter lists of contiguous domains for input to bedtools"
   ]
  },
  {
   "cell_type": "code",
   "execution_count": null,
   "metadata": {},
   "outputs": [],
   "source": [
    "1. cat *.bed_merge_5000 | sort -k4b,4 > cat.bed_merge_5000\n",
    "awk '{print $4}' cat.bed_merge_5000 | sort | uniq -c | wc -l\n",
    "2. cat *.bed_merge_5000_group | sort -k1b,1 > cat.bed_merge_5000_group\n",
    "3. join -1 4 -2 4 cat.bed_merge_5000 /dmel_dtri_merge/dmel_domains_int_sorted > dtri_lo_dmel_coords\n",
    "4. join -1 1 -2 1 /dmel_dtri_merge/dtri_domains_int_sizes dtri_lo_dmel_coords > dtri_lo_dmel_coords_size1\n",
    "5. join -1 1 dmel_domains_int_sizes cat.bed_merge_5000_group > bed_merge_group_5000_sizes\n",
    "join -1 1 -2 1 bed_merge_group_5000_sizes dtri_lo_dmel_coords_size1 | awk '{print $1\"\\t\"$2\"\\t\"$3\"\\t\"$5\"\\t\"$6\"\\t\"$7\"\\t\"$8\"\\t\"$9\"\\t\"$10}'> dtri_lo_dmel_coords_size2\n",
    "6. awk '$3>=($2-(0.5 * $2)) && $3<=($2+(0.5 * $2))' dtri_lo_dmel_coords_size2 > dtri_lo_dmel_coords_te_filt\n",
    "7. awk '$3<=($2-(0.5 * $2)) || $3>=($2+(0.5 * $2))' dtri_lo_dmel_coords_size2 > dtri_lo_dmel_tande\n",
    "wc -l dtri_lo_dmel_tande\n",
    "8. awk '{print $1}' dmel_lo_dtri_coords_te_filt | sort | uniq -c > dmel_lo_dtri_coords_te_filt_counts\n",
    "cat dmel_lo_dtri_coords_te_filt_counts | grep \" 1 \" | sort -k2b,2 | awk '{print $2}' > dmel_lo_dtri_continuous\n",
    "9. join -1 1 -2 1 dmel_lo_dtri_continuous dmel_lo_dtri_coords_te_filt > dmel_lo_dtri_coords_continuous\n",
    "10. sort -k6,6 -k7,7 dmel_lo_dtri_coords_continuous | awk '{print $5\"\\t\"$6\"\\t\"$7\"\\t\"$8\"\\t\"$9\"\\t\"$10\"\\t\"$1}' > dmel_lo_dtri_coords_continuous_sorted"
   ]
  },
  {
   "cell_type": "markdown",
   "metadata": {},
   "source": [
    "Run the following bedtools intersect commands for both directions of original and target species to \n",
    "1. Obtain the number of lifted over contiguous boundaries that are identified by HiC Explorer in at least one replicate of the original species.  These are **orthologous domains**.\n",
    "2. Obtain the number of lifted over contiguous boundaries that are identified by HiC Explorer in at both replicates of the original species. \n",
    "3. obtain the number of lifted over contiguous boundaries that are identified by HiC Explorer in at least one replicate of the original species and the TADs in both species have boundaries within 5kb.\n",
    "4. To count the number of orthologous domains with the same boundaries."
   ]
  },
  {
   "cell_type": "code",
   "execution_count": null,
   "metadata": {},
   "outputs": [],
   "source": [
    "#Dmel to Dtri\n",
    "1. bedtools intersect -wa -wb -f 0.9 -r -a /dmel_to_dtri_domains/dtri_lo_dmel_coords_continuous_sorted -b /dtri_domains_cat_sorted | cut -f 1-3 | sort | uniq | wc -l\n",
    "2. bedtools intersect -wa -wb -f 0.9 -r -a /dmel_to_dtri_domains/dtri_lo_dmel_coords_continuous_sorted -b /dmel_dtri_merge/dtri_domains_int_sorted | cut -f 1-3 | sort | uniq | wc -l\n",
    "3. bedtools intersect -wa -wb -f 0.9 -r -a /dmel_to_dtri_domains/dtri_lo_dmel_coords_continuous_sorted -b /dmel_dtri_merge/dtri_domains_cat_sorted | awk '(($10-$3>=0 && $10-$3<=5000) || ($3-$10>=0 && $3-$10<=5000)) && (($9-$2>=0 && $9-$2<=5000) || ($2-$9>=0 && $2-$9<=5000))' > /dmel_to_dtri_domains/dtri_lo_dmel_bothreps_restends\n",
    "4. | cut -f 1-3 | sort | uniq | wc -l\n",
    "#Dtri to Dmel\n",
    "1. bedtools intersect -wa -wb -f 0.9 -r -a /dtri_to_dmel_domains/dmel_lo_dtri_coords_continuous_sorted -b /dmel_dtri_merge/dmel_domains_cat_sorted | cut -f 1-3 | sort | uniq | wc -l\n",
    "2. bedtools intersect -wa -wb -f 0.9 -r -a /dtri_to_dmel_domains/dmel_lo_dtri_coords_continuous_sorted -b /dmel_dtri_merge/dmel_domains_int_sorted | cut -f 1-3 | sort | uniq | wc -l\n",
    "3. bedtools intersect -wa -wb -f 0.9 -r -a /dtri_to_dmel_domains/dmel_lo_dtri_coords_continuous_sorted -b /dmel_dtri_merge/dmel_domains_cat_sorted | awk '(($10-$3>=0 && $10-$3<=5000) || ($3-$10>=0 && $3-$10<=5000)) && (($9-$2>=0 && $9-$2<=5000) || ($2-$9>=0 && $2-$9<=5000))' > /dtri_to_dmel_domains/dmel_lo_dtri_bothreps_restends\n",
    "awk '{print $1\"\\t\"$2\"\\t\"$3\"\\t\"$4\"\\t\"$5\"\\t\"$6}' /dtri_to_dmel_domains/dmel_lo_dtri_bothreps_restends | sort | uniq > /dtri_to_dmel_domains/dmel_lo_dtri_ortholgous_final"
   ]
  },
  {
   "cell_type": "markdown",
   "metadata": {},
   "source": [
    "Run the following to identify split domains. Example shown for dtri to dmel analysis"
   ]
  },
  {
   "cell_type": "code",
   "execution_count": null,
   "metadata": {},
   "outputs": [],
   "source": [
    "cat dmel_lo_dtri_coords_continuous dmel_lo_dtri_tande | sort -k1b,1 > dmel_lo_dtri_cont_plus_tande\n",
    "join -1 1 -2 1 dmel_lo_dtri_coords dmel_lo_dtri_cont_plus_tande -v 1 | awk '{print $1\"\\t\"$2\"\\t\"$3\"\\t\"$4\"\\t\"$5\"\\t\"$6\"\\t\"$7}' > split\n",
    "\n",
    "bedtools groupby -i split -g 5,6,7  -c 2,3,4 -o collapse > split_groupby\n",
    "sed 's/,/\\t/g' split_groupby > split_groupby_tab"
   ]
  },
  {
   "cell_type": "markdown",
   "metadata": {},
   "source": [
    "Run the following to identify domains split by lineage-specific boundaries"
   ]
  },
  {
   "cell_type": "code",
   "execution_count": null,
   "metadata": {},
   "outputs": [],
   "source": [
    "#Dmel to dtri\n",
    "cat dtri_to_dmel_boundaries/dtri_to_dmel_dmel_non_boundary_coord_with_bound_id dmel_to_dtri_boundaries/dmel_to_dtri_dmel_nonconserved_coords_with_bound_id | sort -k1,1b -k2,2n > all_linspec_bounds_dmelc\n",
    "#split by lineage-specific boundary\n",
    "bedtools intersect -u -a dmel_to_dtri_domains/dtri_lo_dmel_nonorth_continuous_reord -b all_linspec_bounds_dmelc | wc -l\n",
    "#add the remainder that are not split by a lineage-specific boundary to the truncated/expanded category\n",
    "bedtools intersect -v -a dmel_to_dtri_domains/dtri_lo_dmel_nonorth_continuous_reord -b all_linspec_bounds_dmelc | wc -l\n",
    "    \n",
    "#Dtri to dmel\n",
    "cat dtri_to_dmel_boundaries/dtri_to_dmel_dtri_nonconserved_coords_with_bound_id dmel_to_dtri_boundaries/dmel_to_dtri_dtri_non_boundary_coord_with_bound_id > all_linspec_bounds_dtric\n",
    "#split by lineage-specific boundary\n",
    "bedtools intersect -u -a dtri_to_dmel_domains/dtri_to_dmel_nonorth_dtric -b all_linspec_bounds_dtric | wc -l\n",
    "#add the remainder that are not split by a lineage-specific boundary to the truncated/expanded category\n",
    "bedtools intersect -v -a /dtri_to_dmel_domains/dtri_to_dmel_nonorth_dtric -b all_linspec_bounds_dtric | wc -l"
   ]
  },
  {
   "cell_type": "markdown",
   "metadata": {},
   "source": [
    "Run the following to identify the remainder of the truncated/expanded domains caused by insertions and deletions. For final truncated/expanded count - add the count from below to the count from **step 7** above. (Step shown for _D. mel_ to _D. tri_ analysis) "
   ]
  },
  {
   "cell_type": "code",
   "execution_count": null,
   "metadata": {},
   "outputs": [],
   "source": [
    "bedtools intersect -v -wa -wb -a dmel_to_dtri_domains/dtri_lo_dmel_nonorth_continuous_reord -b all_linspec_bounds_dmelc > dmel_to_dtri_nonorth_nonls\n",
    "wc -l dmel_to_dtri_nonorth_nonls"
   ]
  }
 ],
 "metadata": {
  "kernelspec": {
   "display_name": "Python 3",
   "language": "python",
   "name": "python3"
  },
  "language_info": {
   "codemirror_mode": {
    "name": "ipython",
    "version": 3
   },
   "file_extension": ".py",
   "mimetype": "text/x-python",
   "name": "python",
   "nbconvert_exporter": "python",
   "pygments_lexer": "ipython3",
   "version": "3.7.3"
  }
 },
 "nbformat": 4,
 "nbformat_minor": 4
}
