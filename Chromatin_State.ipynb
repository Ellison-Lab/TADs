{
 "cells": [
  {
   "cell_type": "markdown",
   "metadata": {},
   "source": [
    "### Chromatin State\n",
    "###### Pipeline to compare chromatin state between orthologous and non orthologous genes in two species. \n",
    "\n",
    "_Versions_  \n",
    "Bedtools: 2.29.0  \n",
    "R: 3.6.1   \n",
    "GNU Awk 4.0.2  \n",
    "GNU Coreutils 8.22   \n",
    "Python: 3.7.3  "
   ]
  },
  {
   "cell_type": "code",
   "execution_count": null,
   "metadata": {},
   "outputs": [],
   "source": [
    "#Count how many total base pairs/genes from orthologous genes are within one of five chromatin states\n",
    "bedtools intersect -wo -a dtri_lo_dmel_0.9r_final.GENES.bed -b Kc_chromatin_states_r6_muller.bed | sort -k8,8 | bedtools groupby -g 8 -c 9 -o sum | cut -f 2 | ./sum.pl\n",
    "#Find the number and percent of orthologous genes in each chromatin state. \n",
    "bedtools intersect -wo -a dtri_lo_dmel_0.9r_final.GENES.bed -b Kc_chromatin_states_r6_muller.bed | sort -k8,8 | bedtools groupby -g 8 -c 9 -o sum | awk '{print $1\"\\t\"$2\"\\t\"$2/13180916}'\n",
    "#Count how many total base pairs/genes from orthologous genes are within one of five chromatin states\n",
    "bedtools intersect -wo -a dtri_lo_dmel_NOT_0.9r_final.GENES.bed -b Kc_chromatin_states_r6_muller.bed | sort -k8,8 | bedtools groupby -g 8 -c 9 -o sum | cut -f 2 | ./sum.pl\n",
    "#Find the number and percent of orthologous genes in each chromatin state. \n",
    "bedtools intersect -wo -a dtri_lo_dmel_NOT_0.9r_final.GENES.bed -b Kc_chromatin_states_r6_muller.bed | sort -k8,8 | bedtools groupby -g 8 -c 9 -o sum | awk '{print $1\"\\t\"$2\"\\t\"$2/45589307}' "
   ]
  },
  {
   "cell_type": "markdown",
   "metadata": {},
   "source": [
    "Fisher's exact tests for state differences between orthologous and non-orthologous domains."
   ]
  },
  {
   "cell_type": "code",
   "execution_count": null,
   "metadata": {},
   "outputs": [],
   "source": [
    "import scipy.stats as stats\n",
    "#BLACK\n",
    "oddsratio, pvalue = stats.fisher_exact([[719,1653-719],[2156,7263-2156]],alternative='greater')\n",
    "\n",
    "#BLUE\n",
    "oddsratio, pvalue = stats.fisher_exact([[247,1653-247],[861,7263-861]],alternative='greater')\n",
    "\n",
    "#GREEN\n",
    "oddsratio, pvalue = stats.fisher_exact([[20,1653-20],[357,7263-357]],alternative='less')\n",
    "\n",
    "#RED\n",
    "oddsratio, pvalue = stats.fisher_exact([[116,1653-116],[526,7263-526]],alternative='less')\n",
    "\n",
    "#YELLOW\n",
    "oddsratio, pvalue = stats.fisher_exact([[551,1653-551],[3373,7263-3373]],alternative='less')"
   ]
  },
  {
   "cell_type": "markdown",
   "metadata": {},
   "source": [
    "Chromatin state fixed vs polymorphic breakpoint analysis"
   ]
  },
  {
   "cell_type": "code",
   "execution_count": null,
   "metadata": {},
   "outputs": [],
   "source": [
    "git clone https://github.com/mahulchak/dspr-asm.git\n",
    "\n",
    "gzcat dspr-asm/variants-raw/*.gz | grep INV | awk '$9>=10000' | cut -f 1-3 | tr \".\" \"\\t\" | cut -f 2-4 | awk '{print $1\"\\t\"$2\"\\t\"$2+1\"\\t\"$3-$2\"\\n\"$1\"\\t\"$3\"\\t\"$3+1\"\\t\"$3-$2}' | sort -k1,1 -k2,2n > t\n",
    "\n",
    "cat t | sort -k1,1 -k2,2n | bedtools merge -i - -d 10 | bedtools intersect -wo -a ~/t -b Kc_chromatin_states_r6.bed | cut -f 1,2,3,8 | uniq | cut -f 4 | sort | uniq -c | awk '{print $2\"\\t\"$1\"\\t\"$1/292}'\n",
    "\n",
    "bedtools intersect -wa -wb -a dmel_breakpoints_no_boundaries -b Kc_chromatin_states_r6.bed | cut -f 7 | sort | uniq -c | awk '{print $2\"\\t\"$1\"\\t\"$1/843}' | sort -k1b,1"
   ]
  },
  {
   "cell_type": "markdown",
   "metadata": {},
   "source": [
    "Fishers exact test to for polymorphic vs fixed breakpoint analysis"
   ]
  },
  {
   "cell_type": "code",
   "execution_count": null,
   "metadata": {},
   "outputs": [],
   "source": [
    "#BLACK\n",
    "oddsratio, pvalue = stats.fisher_exact([[129,292-129],[157,843-157]],alternative='greater')\n",
    "#oddsratio = 3.458012582548552\tpvalue = 5.1175117049543467e-17\n",
    "\n",
    "#BLUE\n",
    "oddsratio, pvalue = stats.fisher_exact([[47,292-47],[67,843-67]],alternative='greater')\n",
    "#oddsratio = 2.221870240633567\tpvalue = 9.714349618584786e-05\n",
    "\n",
    "#GREEN\n",
    "oddsratio, pvalue = stats.fisher_exact([[4,292-4],[23,843-23]],alternative='less')\n",
    "#oddsratio = 0.49516908212560384\tpvalue = 0.13580764850077057\n",
    "\n",
    "#RED\n",
    "oddsratio, pvalue = stats.fisher_exact([[37,292-37],[62,843-62]],alternative='greater')\n",
    "#oddsratio = 1.8277672359266288\tpvalue = 0.004981927432859326\n",
    "\n",
    "#YELLOW\n",
    "oddsratio, pvalue = stats.fisher_exact([[75,292-75],[534,843-534]],alternative='less')\n",
    "#oddsratio = 0.1999948221405271\tpvalue = 2.3515576001110368e-29"
   ]
  },
  {
   "attachments": {},
   "cell_type": "markdown",
   "metadata": {},
   "source": [
    "Orthologous and nonorthologous DE genes per chromatin state\n",
    "\n",
    "First create file: dmel_breakpoints_no_boundaries"
   ]
  },
  {
   "cell_type": "code",
   "execution_count": null,
   "metadata": {},
   "outputs": [],
   "source": [
    "bedtools intersect -v -a dmel_breakpoints -b dmel_merge_mid5000 dmel_lc > dmel_breakpoints_no_boundaries"
   ]
  },
  {
   "cell_type": "markdown",
   "metadata": {},
   "source": [
    "Then run the script below: color_DE_exclude_boundaries.sh"
   ]
  },
  {
   "cell_type": "code",
   "execution_count": null,
   "metadata": {},
   "outputs": [],
   "source": [
    "flank=10000\n",
    "pval=0.05\n",
    "\n",
    "for color in YELLOW RED BLACK BLUE GREEN\n",
    "do\n",
    "# Get all genes of a color then split into those near breakpoints versus the rest\n",
    "grep $color genes.color | cut -f 1 > temp\n",
    "grep -f temp dmel-all-r6.21.genes.MullerIDs.bed | sort -k1,1 -k2,2n | bedtools closest -d -a - -b dmel_breakpoints_no_boundaries | awk -v f=$flank '$10<=f' | cut -f 4 | sort | uniq > temp2\n",
    "cat temp temp2 | sort | uniq -u > tempu\n",
    "\n",
    "# Get the number of breakpoint genes that are DE\n",
    "bde=`grep -f temp2 ../expression/deseq_output_all.NEW.csv | tr \",\" \"\\t\" | grep -v NA | awk -v p=$pval '$7<=p' | wc -l`\n",
    "btot=`grep -f temp2 ../expression/deseq_output_all.NEW.csv | tr \",\" \"\\t\" | grep -v NA | wc -l`\n",
    "echo $bde $btot $color | awk '{print \"Breakpoint genes: \"$1\"/\"$2\": \"$1/$2\"\\t\"$3}'\n",
    "\n",
    "# Get the number of other genes that are DE\n",
    "ode=`grep -f tempu ../expression/deseq_output_all.NEW.csv | tr \",\" \"\\t\" | grep -v NA | awk -v p=$pval '$7<=p' | wc -l`\n",
    "otot=`grep -f tempu ../expression/deseq_output_all.NEW.csv | tr \",\" \"\\t\" | grep -v NA | wc -l`\n",
    "echo $ode $otot $color | awk '{print \"Other genes: \"$1\"/\"$2\": \"$1/$2\"\\t\"$3}'\n",
    "done"
   ]
  },
  {
   "cell_type": "markdown",
   "metadata": {},
   "source": [
    "Fishers Exact Test for DE genes in orthologous vs nonorthologous TADs, separated by chromatin state"
   ]
  },
  {
   "cell_type": "code",
   "execution_count": null,
   "metadata": {},
   "outputs": [],
   "source": [
    "#BLACK\n",
    "oddsratio, pvalue = stats.fisher_exact([[20,99-20],[77,497-77]],alternative='greater')\n",
    "#oddsratio = 1.380897583429229\tpvalue = 0.1561514805893438\n",
    "\n",
    "#BLUE\n",
    "oddsratio, pvalue = stats.fisher_exact([[17,99-17],[48,497-48]],alternative='greater')\n",
    "#oddsratio = 1.9392784552845528\tpvalue = 0.02616904723438471\n",
    "\n",
    "#GREEN\n",
    "oddsratio, pvalue = stats.fisher_exact([[1,99-1],[11,497-11]],alternative='less')\n",
    "#oddsratio = 0.45083487940630795\tpvalue = 0.3808229702397943\n",
    "\n",
    "#RED\n",
    "oddsratio, pvalue = stats.fisher_exact([[10,99-10],[31,497-31]],alternative='greater')\n",
    "#oddsratio = 1.689017760057992\tpvalue = 0.12315396696148169\n",
    "\n",
    "#YELLOW\n",
    "oddsratio, pvalue = stats.fisher_exact([[51,99-51],[330,497-330]],alternative='less')\n",
    "#oddsratio = 0.537689393939394\tpvalue = 0.0038106562955318468"
   ]
  }
 ],
 "metadata": {
  "kernelspec": {
   "display_name": "Python 3",
   "language": "python",
   "name": "python3"
  },
  "language_info": {
   "codemirror_mode": {
    "name": "ipython",
    "version": 3
   },
   "file_extension": ".py",
   "mimetype": "text/x-python",
   "name": "python",
   "nbconvert_exporter": "python",
   "pygments_lexer": "ipython3",
   "version": "3.7.3"
  }
 },
 "nbformat": 4,
 "nbformat_minor": 4
}
