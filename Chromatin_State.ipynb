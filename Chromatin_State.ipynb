{
 "cells": [
  {
   "cell_type": "markdown",
   "metadata": {},
   "source": [
    "### Chromatin State\n",
    "###### Pipeline to compare chromatin state between orthologous and non orthologous genes in two species. \n",
    "\n",
    "_Versions_\n",
    "Bedtools: 2.29.0  \n",
    "R: 3.6.1   \n",
    "GNU Awk 4.0.2  \n",
    "GNU Coreutils 8.22   \n",
    "Python: 3.7.3  "
   ]
  },
  {
   "cell_type": "code",
   "execution_count": null,
   "metadata": {},
   "outputs": [],
   "source": [
    "#Count how many total base pairs/genes from orthologous genes are within one of five chromatin states\n",
    "bedtools intersect -wo -a dtri_lo_dmel_0.9r_final.GENES.bed -b Kc_chromatin_states_r6_muller.bed | sort -k8,8 | bedtools groupby -g 8 -c 9 -o sum | cut -f 2 | ./sum.pl\n",
    "#Find the number and percent of orthologous genes in each chromatin state. \n",
    "bedtools intersect -wo -a dtri_lo_dmel_0.9r_final.GENES.bed -b Kc_chromatin_states_r6_muller.bed | sort -k8,8 | bedtools groupby -g 8 -c 9 -o sum | awk '{print $1\"\\t\"$2\"\\t\"$2/13180916}'\n",
    "#Count how many total base pairs/genes from orthologous genes are within one of five chromatin states\n",
    "bedtools intersect -wo -a dtri_lo_dmel_NOT_0.9r_final.GENES.bed -b Kc_chromatin_states_r6_muller.bed | sort -k8,8 | bedtools groupby -g 8 -c 9 -o sum | cut -f 2 | ./sum.pl\n",
    "#Find the number and percent of orthologous genes in each chromatin state. \n",
    "bedtools intersect -wo -a dtri_lo_dmel_NOT_0.9r_final.GENES.bed -b Kc_chromatin_states_r6_muller.bed | sort -k8,8 | bedtools groupby -g 8 -c 9 -o sum | awk '{print $1\"\\t\"$2\"\\t\"$2/45589307}' "
   ]
  },
  {
   "cell_type": "markdown",
   "metadata": {},
   "source": [
    "Fisher's exact tests for state differences between orthologous and non-orthologous domains."
   ]
  },
  {
   "cell_type": "code",
   "execution_count": null,
   "metadata": {},
   "outputs": [],
   "source": [
    "import scipy.stats as stats\n",
    "#BLACK\n",
    "oddsratio, pvalue = stats.fisher_exact([[719,1653-719],[2156,7263-2156]],alternative='greater')\n",
    "\n",
    "#BLUE\n",
    "oddsratio, pvalue = stats.fisher_exact([[247,1653-247],[861,7263-861]],alternative='greater')\n",
    "\n",
    "#GREEN\n",
    "oddsratio, pvalue = stats.fisher_exact([[20,1653-20],[357,7263-357]],alternative='less')\n",
    "\n",
    "#RED\n",
    "oddsratio, pvalue = stats.fisher_exact([[116,1653-116],[526,7263-526]],alternative='less')\n",
    "\n",
    "#YELLOW\n",
    "oddsratio, pvalue = stats.fisher_exact([[551,1653-551],[3373,7263-3373]],alternative='less')"
   ]
  }
 ],
 "metadata": {
  "kernelspec": {
   "display_name": "Python 3",
   "language": "python",
   "name": "python3"
  },
  "language_info": {
   "codemirror_mode": {
    "name": "ipython",
    "version": 3
   },
   "file_extension": ".py",
   "mimetype": "text/x-python",
   "name": "python",
   "nbconvert_exporter": "python",
   "pygments_lexer": "ipython3",
   "version": "3.8.1"
  }
 },
 "nbformat": 4,
 "nbformat_minor": 4
}
